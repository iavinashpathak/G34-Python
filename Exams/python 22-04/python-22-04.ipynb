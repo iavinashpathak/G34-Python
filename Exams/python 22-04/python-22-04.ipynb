{
 "cells": [
  {
   "cell_type": "markdown",
   "id": "aa496def",
   "metadata": {},
   "source": [
    "##### Q1. Write a Python program that takes a sentence as input and returns a dictionary where the keys are vowels and the values are the number of times each vowel appears in the sentence. Ignore case. \n",
    "\n",
    "Example Input: \"Education is important\"  \n",
    "Expected Output: {'a': 2, 'e': 1, 'i': 2, 'o': 1, 'u': 1} "
   ]
  },
  {
   "cell_type": "code",
   "execution_count": 20,
   "id": "30e21013",
   "metadata": {},
   "outputs": [],
   "source": [
    "def question1():\n",
    "    sentence = input('Enter a sentence: ').lower()\n",
    "    vowels = 'aeiouAEIOU'\n",
    "    vowels_dict = {}\n",
    "    for i in sentence:\n",
    "        if i in vowels:\n",
    "            if i in vowels_dict:\n",
    "                vowels_dict[i] += 1\n",
    "            else:\n",
    "                vowels_dict[i] = 1\n",
    "        else:\n",
    "            pass\n",
    "    return sorted(vowels_dict.items())\n"
   ]
  },
  {
   "cell_type": "code",
   "execution_count": 21,
   "id": "3a22ea57",
   "metadata": {},
   "outputs": [
    {
     "data": {
      "text/plain": [
       "[('a', 2), ('e', 1), ('i', 3), ('o', 2), ('u', 1)]"
      ]
     },
     "execution_count": 21,
     "metadata": {},
     "output_type": "execute_result"
    }
   ],
   "source": [
    "question1()"
   ]
  },
  {
   "cell_type": "code",
   "execution_count": null,
   "id": "d2ace40c",
   "metadata": {},
   "outputs": [],
   "source": []
  },
  {
   "cell_type": "markdown",
   "id": "6f7edb7f",
   "metadata": {},
   "source": [
    "##### Q2. Write a function that checks if a given number is a palindrome. Then write another function that prints all palindrome numbers between two given numbers (inclusive).  \n",
    "Example Input: start = 100, end = 150  \n",
    "Expected Output: 101 111 121 131 141 "
   ]
  },
  {
   "cell_type": "code",
   "execution_count": 51,
   "id": "6d109fa3",
   "metadata": {},
   "outputs": [],
   "source": [
    "def is_palindrome(num):\n",
    "    return str(num) == str(num)[::-1]"
   ]
  },
  {
   "cell_type": "code",
   "execution_count": 60,
   "id": "d68a7d89",
   "metadata": {},
   "outputs": [],
   "source": [
    "def palindromes_in_between(start, end):\n",
    "    palindromes = []\n",
    "    for i in range(start, end+1):\n",
    "        if is_palindrome(i):\n",
    "            palindromes.append(i)\n",
    "    return palindromes\n",
    "        "
   ]
  },
  {
   "cell_type": "code",
   "execution_count": 61,
   "id": "e9c7a9a4",
   "metadata": {},
   "outputs": [
    {
     "data": {
      "text/plain": [
       "[101, 111, 121, 131, 141]"
      ]
     },
     "execution_count": 61,
     "metadata": {},
     "output_type": "execute_result"
    }
   ],
   "source": [
    "palindromes_in_between(100, 150)"
   ]
  },
  {
   "cell_type": "code",
   "execution_count": null,
   "id": "ce5954da",
   "metadata": {},
   "outputs": [],
   "source": []
  },
  {
   "cell_type": "markdown",
   "id": "b4819c3f",
   "metadata": {},
   "source": [
    "##### Q3. Create a class Employee with attributes emp_id, name, and salary. Write methods to: \n",
    "- Display employee details \n",
    "- Write the details to a file named employee_data.txt in CSV format \n",
    "- Read from the file and display the content"
   ]
  },
  {
   "cell_type": "code",
   "execution_count": 74,
   "id": "88ab251a",
   "metadata": {},
   "outputs": [],
   "source": [
    "class Employee:\n",
    "    def __init__(self, id, name, salary):\n",
    "        self.id = id\n",
    "        self.name = name\n",
    "        self.salary = salary\n",
    "    \n",
    "    def display(self):\n",
    "        print(f'ID: {self.id}\\nName: {self.name}\\nSalary: {self.salary}')\n",
    "        \n",
    "    def write_data(self):\n",
    "            with open('employee_data.txt', 'w') as file:\n",
    "                file.write(f'{self.id},{self.name},{self.salary}\\n')\n",
    "    \n",
    "    def read_data(self):\n",
    "        with open('employee_data.txt', 'r') as file:\n",
    "            data = file.readlines()\n",
    "            for line in data:\n",
    "                emp_id, name, salary = line.strip().split(',')\n",
    "                print(f'ID: {emp_id}, Name: {name}, Salary: {salary}')"
   ]
  },
  {
   "cell_type": "code",
   "execution_count": 76,
   "id": "ee83b6c2",
   "metadata": {},
   "outputs": [
    {
     "name": "stdout",
     "output_type": "stream",
     "text": [
      "ID: 101, Name: Avinash, Salary: 65313\n"
     ]
    }
   ],
   "source": [
    "employee1 = Employee(101, 'Avinash', 65313)\n",
    "employee1.write_data()\n",
    "employee1.read_data()"
   ]
  },
  {
   "cell_type": "code",
   "execution_count": null,
   "id": "1890c829",
   "metadata": {},
   "outputs": [],
   "source": []
  },
  {
   "cell_type": "markdown",
   "id": "94893fef",
   "metadata": {},
   "source": [
    "##### Q4. Create a class LogAnalyzer that reads a file called log.txt, counts the number of lines that contain the word \"error\" (case-insensitive), and prints the count. Include proper function(s) and file handling. Assume log.txt contains multiple lines.\n",
    "##### Log.txt:  \n",
    "INFO: System initialized successfully  \n",
    "ERROR: Failed to connect to the database  \n",
    "WARNING: Deprecated function used   \n",
    "info: User logged in   \n",
    "error: Timeout while connecting to server  \n",
    "DEBUG: Memory usage is within limits  \n",
    "ERROR: Null pointer exception occurred  \n",
    "Warning: Battery level low  \n",
    "fatal: System crash detected  \n",
    "Error: File not found"
   ]
  },
  {
   "cell_type": "code",
   "execution_count": 98,
   "id": "b9ee1e92",
   "metadata": {},
   "outputs": [],
   "source": [
    "def question4():\n",
    "    with open('log.txt', 'r') as file:\n",
    "        data = file.readlines()\n",
    "    \n",
    "    error_count = 0\n",
    "    for line in data:\n",
    "        if 'error' in line.lower():\n",
    "            error_count += 1\n",
    "    \n",
    "    print(f'The number of errors in the log file is: {error_count}')"
   ]
  },
  {
   "cell_type": "code",
   "execution_count": 99,
   "id": "bb269f15",
   "metadata": {},
   "outputs": [
    {
     "name": "stdout",
     "output_type": "stream",
     "text": [
      "The number of errors in the log file is: 4\n"
     ]
    }
   ],
   "source": [
    "question4()"
   ]
  },
  {
   "cell_type": "code",
   "execution_count": null,
   "id": "be0cbfff",
   "metadata": {},
   "outputs": [],
   "source": []
  }
 ],
 "metadata": {
  "kernelspec": {
   "display_name": "base",
   "language": "python",
   "name": "python3"
  },
  "language_info": {
   "codemirror_mode": {
    "name": "ipython",
    "version": 3
   },
   "file_extension": ".py",
   "mimetype": "text/x-python",
   "name": "python",
   "nbconvert_exporter": "python",
   "pygments_lexer": "ipython3",
   "version": "3.12.9"
  }
 },
 "nbformat": 4,
 "nbformat_minor": 5
}
