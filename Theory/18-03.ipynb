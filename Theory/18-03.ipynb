{
 "cells": [
  {
   "cell_type": "code",
   "execution_count": 97,
   "metadata": {},
   "outputs": [],
   "source": [
    "from datetime import datetime\n",
    "class Person:\n",
    "    def __init__(self, name, conutry, dob):\n",
    "        self.name = name\n",
    "        self.country = conutry\n",
    "        self.dob = dob\n",
    "    \n",
    "    def calculateAge(self):\n",
    "        today = datetime.now()\n",
    "        dob_datetime = datetime.strptime(self.dob,'%Y-%m-%d')\n",
    "        diff = (today.year - dob_datetime.year, today.month - dob_datetime.month, today.day - dob_datetime.day)\n",
    "        return f'This guy ({self.name}) is {diff[0]} years, {diff[1]} months and {diff[-1]} days old'\n"
   ]
  },
  {
   "cell_type": "code",
   "execution_count": 98,
   "metadata": {},
   "outputs": [
    {
     "data": {
      "text/plain": [
       "'This guy (Avinash) is 20 years, 1 months and 14 days old'"
      ]
     },
     "execution_count": 98,
     "metadata": {},
     "output_type": "execute_result"
    }
   ],
   "source": [
    "person1 = Person('Avinash', 'India', '2005-02-04')\n",
    "person1.calculateAge()"
   ]
  },
  {
   "cell_type": "code",
   "execution_count": 138,
   "metadata": {},
   "outputs": [],
   "source": [
    "class calculator:\n",
    "    def __init__(self):\n",
    "        pass\n",
    "    \n",
    "    def add(self, *sumargs):\n",
    "        sum = 0\n",
    "        for i in sumargs:\n",
    "            sum += i\n",
    "        return sum\n",
    "    \n",
    "    def multiply(self, *prodargs):\n",
    "        product = 1\n",
    "        for j in prodargs:\n",
    "            product *= j\n",
    "        return product\n",
    "    \n",
    "    def divide(self, num1, num2):\n",
    "        num1 = int(input('First num: '))\n",
    "        num2 = int(input('Second num: '))\n",
    "        return num1 / num2\n",
    "    \n",
    "    def remainder(self, num1, num2):\n",
    "        num1 = int(input('First num: '))\n",
    "        num2 = int(input('Second num: '))\n",
    "        return num1 // num2"
   ]
  },
  {
   "cell_type": "code",
   "execution_count": 139,
   "metadata": {},
   "outputs": [
    {
     "data": {
      "text/plain": [
       "10"
      ]
     },
     "execution_count": 139,
     "metadata": {},
     "output_type": "execute_result"
    }
   ],
   "source": [
    "calc = calculator()\n",
    "calc.add(1, 2, 3, 4)"
   ]
  },
  {
   "cell_type": "code",
   "execution_count": 140,
   "metadata": {},
   "outputs": [
    {
     "data": {
      "text/plain": [
       "120"
      ]
     },
     "execution_count": 140,
     "metadata": {},
     "output_type": "execute_result"
    }
   ],
   "source": [
    "calc.multiply(1,2,3,4,5)"
   ]
  },
  {
   "cell_type": "code",
   "execution_count": null,
   "metadata": {},
   "outputs": [],
   "source": []
  },
  {
   "cell_type": "code",
   "execution_count": null,
   "metadata": {},
   "outputs": [],
   "source": []
  },
  {
   "cell_type": "code",
   "execution_count": null,
   "metadata": {},
   "outputs": [],
   "source": []
  },
  {
   "cell_type": "code",
   "execution_count": null,
   "metadata": {},
   "outputs": [],
   "source": []
  },
  {
   "cell_type": "code",
   "execution_count": null,
   "metadata": {},
   "outputs": [],
   "source": []
  },
  {
   "cell_type": "code",
   "execution_count": null,
   "metadata": {},
   "outputs": [],
   "source": []
  }
 ],
 "metadata": {
  "kernelspec": {
   "display_name": "base",
   "language": "python",
   "name": "python3"
  },
  "language_info": {
   "codemirror_mode": {
    "name": "ipython",
    "version": 3
   },
   "file_extension": ".py",
   "mimetype": "text/x-python",
   "name": "python",
   "nbconvert_exporter": "python",
   "pygments_lexer": "ipython3",
   "version": "3.12.9"
  }
 },
 "nbformat": 4,
 "nbformat_minor": 2
}
