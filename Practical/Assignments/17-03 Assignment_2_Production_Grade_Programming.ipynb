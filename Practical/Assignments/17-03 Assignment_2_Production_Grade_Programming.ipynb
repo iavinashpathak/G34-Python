{
 "cells": [
  {
   "cell_type": "markdown",
   "metadata": {
    "id": "77zLnpaNvNSp"
   },
   "source": [
    "## <u> Problem 1</u>\n",
    "\n",
    "### Create a class <code>Cylinder</code> which takes two attributes <code>radius</code> and <code>height</code>.\n",
    "\n",
    "### Create the following methods in this class:\n",
    "\n",
    "* ### method <code>volume()</code> which calculates the volume of the cyinder which is defined as $V  = \\pi r^2 h$\n",
    "\n",
    "* ### method <code>surface_area()</code> which calculates the area of the cyinder which is defined as $S  = 2\\pi r h$. Assume this is an open cylinder\n"
   ]
  },
  {
   "cell_type": "code",
   "execution_count": 9,
   "metadata": {
    "id": "-cWkCZ5OzX0G"
   },
   "outputs": [],
   "source": [
    "# Write your code below. Take pi as 3.14\n",
    "import math\n",
    "\n",
    "class Cylinder:\n",
    "    def __init__(self, radius, height):\n",
    "        self.radius = radius\n",
    "        self.height = height\n",
    "    \n",
    "    def volume(self):\n",
    "        return (math.pi * (self.radius ** 2) * self.height)\n",
    "    \n",
    "    def surface_area(self):\n",
    "        return (2 * math.pi * self.radius * self.height)\n"
   ]
  },
  {
   "cell_type": "code",
   "execution_count": 15,
   "metadata": {
    "id": "tgS3mhN-18b_"
   },
   "outputs": [
    {
     "name": "stdout",
     "output_type": "stream",
     "text": [
      "0.6366197723675814\n",
      "4.0\n"
     ]
    }
   ],
   "source": [
    "# Check for sample inputs\n",
    "\n",
    "cylinder1 = Cylinder(1/math.pi, 2)\n",
    "print(cylinder1.volume())\n",
    "print(cylinder1.surface_area())\n",
    "\n"
   ]
  },
  {
   "cell_type": "markdown",
   "metadata": {
    "id": "KjPWYK0Rs8By"
   },
   "source": [
    "## <u>Problem 2</u>\n",
    "\n",
    "### You started your own money wallet where your customers can create their accounts and they can either deposit or withdraw money from this wallet.\n",
    "\n",
    "### Write a Python class <code>BankAccount</code> which takes the balance as an attribute. You can initialize the balance with 0 because any new account will have 0 rupees in their wallet. Next write two methods for your class :\n",
    "\n",
    "* #### <code>withdraw()</code> method which takes the amount to be withdrawn as an argument and returns the balance after the withdrawal\n",
    "\n",
    "* #### <code>deposit()</code> method which takes the amount to be deposited as an argument and returns the balance after the deposit.\n",
    "\n",
    "### Keep in mind that if the balance to be withdrawn exceeds the current balance, it should display a message that \"Not enough balance in your account\"\n"
   ]
  },
  {
   "cell_type": "code",
   "execution_count": 82,
   "metadata": {
    "id": "RxVZTrenzfHC"
   },
   "outputs": [],
   "source": [
    "# Write your BankAccount class below\n",
    "class InvalidFundsError(Exception):\n",
    "    def __init__(self, message):\n",
    "        super().__init__(message)    \n",
    "    \n",
    "class BankAccount:\n",
    "    def __init__(self):\n",
    "        self.balance = 0\n",
    "    \n",
    "    def withdraw(self, amount):\n",
    "        \n",
    "        try:\n",
    "            if amount < 0:\n",
    "                raise InvalidFundsError('Withdrawal Amount must be positive.')\n",
    "            if amount > self.balance:\n",
    "                raise InvalidFundsError('Insufficient Funds.')\n",
    "        except InvalidFundsError as e:\n",
    "            print(e)\n",
    "        else:\n",
    "            self.balance -= amount\n",
    "            print(f'${amount} withdrawn from your account.\\nCurrent Balance: {self.balance}')\n",
    "        \n",
    "    def deposit(self, amount):\n",
    "        try:\n",
    "            if amount <= 0:\n",
    "                raise InvalidFundsError('Deposit Amount must be positive. Please Input a valid amount')\n",
    "        except InvalidFundsError as e:\n",
    "            print(e)\n",
    "        else:\n",
    "            self.balance += amount\n",
    "            print(f'${amount} deposited to your account.\\nCurrent Balance: {self.balance}')\n"
   ]
  },
  {
   "cell_type": "code",
   "execution_count": 86,
   "metadata": {
    "id": "N1Yhpkiws8B3"
   },
   "outputs": [],
   "source": [
    "# Create two instances of this class for two customers\n",
    "account1 = BankAccount()\n",
    "account2 = BankAccount()"
   ]
  },
  {
   "cell_type": "markdown",
   "metadata": {
    "id": "mSTxPcO3fWeX"
   },
   "source": [
    "### Next add some amount and withdraw some another amount for both the customers."
   ]
  },
  {
   "cell_type": "code",
   "execution_count": 87,
   "metadata": {
    "id": "KpMdlB5Fs8B8"
   },
   "outputs": [
    {
     "name": "stdout",
     "output_type": "stream",
     "text": [
      "$5000 deposited to your account.\n",
      "Current Balance: 5000\n",
      "$2000 deposited to your account.\n",
      "Current Balance: 2000\n",
      "Insufficient Funds.\n",
      "$1000 withdrawn from your account.\n",
      "Current Balance: 1000\n",
      "Withdrawal Amount must be positive.\n",
      "$1000 withdrawn from your account.\n",
      "Current Balance: 4000\n",
      "Deposit Amount must be positive. Please Input a valid amount\n",
      "Deposit Amount must be positive. Please Input a valid amount\n"
     ]
    }
   ],
   "source": [
    "# Deposit some amount and withdrawing some amount from the two accounts and check if your method works fine\n",
    "account1.deposit(5000)\n",
    "account2.deposit(2000)\n",
    "\n",
    "account1.withdraw(8000)\n",
    "account2.withdraw(1000)\n",
    "\n",
    "account1.withdraw(-500)\n",
    "account1.withdraw(1000)\n",
    "\n",
    "account1.deposit(0)\n",
    "account2.deposit(-200)\n",
    "\n",
    "\n",
    "\n",
    "\n",
    "\n",
    "\n",
    "\n",
    "\n"
   ]
  },
  {
   "cell_type": "markdown",
   "metadata": {
    "id": "5qd8g8UUs8CM"
   },
   "source": [
    "## <u>Problem 3 </u>\n",
    "\n",
    "### Create a class <code>Time </code> which takes two inputs hours and minutes to instantiate.\n",
    "*  #### Construct a method <code>DisplayTime()</code> which displays the time in AM/PM formats. For example if the input is 14 hours and 45 mins, then this method will print \"The time is 2:45 PM\". If the inputted hours exceeds 23 then print the message \"The input hours should be less than 24\" and if the inputted minutes exceeds 59 then print the message \"The input minutes should be less than 60.\" Also if the input is 12 hours 30 minutes, then the displayed time would be 12:30 PM\n",
    "* #### Construct a method <code>DisplayRatio()</code> which should display the ratio of minutes to hours. For example, (8 hours and  16 mins) should display 2. Use <code>try</code>, <code>except</code> block to account for ZeroDivisionError."
   ]
  },
  {
   "cell_type": "code",
   "execution_count": 39,
   "metadata": {
    "id": "FBJy9Sq_s8CN"
   },
   "outputs": [],
   "source": [
    "class InvalidTimeFormat(Exception):\n",
    "    def __init__(self, *args):\n",
    "        super().__init__(*args)\n",
    "\n",
    "class Time:\n",
    "    def __init__(self, hrs, mins):\n",
    "        self.hrs = hrs\n",
    "        self.mins = mins\n",
    "    \n",
    "    def DisplayTime(self):\n",
    "        try:\n",
    "            if self.hrs > 23:\n",
    "                raise InvalidTimeFormat('The input hours should be less than 24')\n",
    "            if self.mins > 59:\n",
    "                raise InvalidTimeFormat('The input minutes should be less than 60')\n",
    "        except InvalidTimeFormat as e:\n",
    "            print(e)\n",
    "        else:\n",
    "            if self.hrs < 12:\n",
    "                print(f'The Time is {self.hrs}:{self.mins} AM')\n",
    "            else:\n",
    "                print(f'The Time is {self.hrs - 12}:{self.mins} PM')\n",
    "    \n",
    "    def DisplayRatio(self):\n",
    "        try :\n",
    "            if self.hrs == 0:\n",
    "                raise ZeroDivisionError\n",
    "        except ZeroDivisionError as e:\n",
    "            print('Error: Division by zero is not allowed!')\n",
    "        else:\n",
    "            print(f'Ratio of {self.mins} to {self.hrs} is {self.mins // self.hrs}')\n",
    "            \n",
    "\n"
   ]
  },
  {
   "cell_type": "code",
   "execution_count": 40,
   "metadata": {
    "id": "zywXa51d6Eev"
   },
   "outputs": [
    {
     "name": "stdout",
     "output_type": "stream",
     "text": [
      "The Time is 11:45 PM\n",
      "The input hours should be less than 24\n",
      "The Time is 0:34 PM\n",
      "The input minutes should be less than 60\n",
      "The Time is 7:20 PM\n",
      "The Time is 2:15 AM\n",
      "The Time is 0:10 AM\n",
      "Ratio of 45 to 23 is 1\n",
      "Ratio of 50 to 34 is 1\n",
      "Ratio of 34 to 12 is 2\n",
      "Ratio of 67 to 14 is 4\n",
      "Ratio of 20 to 19 is 1\n",
      "Ratio of 15 to 2 is 7\n",
      "Error: Division by zero is not allowed!\n"
     ]
    }
   ],
   "source": [
    "# Check for few sample inputs of hours and mins\n",
    "hour_min_list = [(23,45), (34,50), (12,34), (14,67),(19,20), (2,15), (0, 10)]\n",
    "\n",
    "\n",
    "# Using a for loop display the corresponding 12 hour time format for the above hour_min_list\n",
    "for i in hour_min_list:\n",
    "    Time(i[0],i[-1]).DisplayTime()\n",
    "\n",
    "\n",
    "\n",
    "\n",
    "# Also display the corresponding ratios for the above list\n",
    "for i in hour_min_list:\n",
    "    Time(i[0],i[-1]).DisplayRatio()\n",
    "\n",
    "\n"
   ]
  },
  {
   "cell_type": "markdown",
   "metadata": {
    "id": "mgcu1_SAjAqF"
   },
   "source": [
    "## <u>Problem 4: Employee Management System with Exception Handling</u>\n",
    "\n",
    "**Scenario:**\n",
    "\n",
    "A company manages employees, where each employee has a name, an employee ID, and a salary. Employees can receive promotions, which increase their salary. However, if an invalid salary increment is given (such as a negative value), the system should raise an exception.\n",
    "\n",
    "**Task:**\n",
    "Create a Employee class with the following attributes and methods:\n",
    "\n",
    "    Attributes:\n",
    "    - name (str), employee_id (str), and salary (float).\n",
    "    Methods:\n",
    "    - promote(increment): Increases the salary by the given amount. If the increment is negative, raise an InvalidSalaryIncrementException.\n",
    "    - display_info(): Prints employee details.\n",
    "\n",
    "Define a custom exception *InvalidSalaryIncrementException* that is raised when an invalid salary increment is provided.\n",
    "\n",
    "**Steps to Solve:**\n",
    "- Create an `Employee` class with the required attributes.\n",
    "- Define a custom exception `InvalidSalaryIncrementException`.\n",
    "- Implement the `promote(increment)` method that validates the increment before applying it.\n",
    "- Implement `display_info()` to show employee details.\n",
    "- Write a test case where a negative salary increment is attempted, and handle the exception gracefully.\n"
   ]
  },
  {
   "cell_type": "markdown",
   "metadata": {},
   "source": [
    "### **Test Cases for Employee Management System with Exception Handling**  \n",
    "\n",
    "#### **Test Case 1: Valid Salary Increment**  \n",
    "**Input:**  \n",
    "```python\n",
    "emp = Employee(\"Alice Johnson\", \"EMP1001\", 50000)\n",
    "emp.promote(5000)\n",
    "emp.display_info()\n",
    "```\n",
    "**Expected Output:**  \n",
    "```\n",
    "Alice Johnson has been promoted! New salary: $55000.00\n",
    "Employee ID: EMP1001 | Name: Alice Johnson | Salary: $55000.00\n",
    "```\n",
    "\n",
    "---\n",
    "\n",
    "#### **Test Case 2: Invalid Salary Increment (Negative Value)**  \n",
    "**Input:**  \n",
    "```python\n",
    "emp = Employee(\"Bob Smith\", \"EMP1002\", 60000)\n",
    "try:\n",
    "    emp.promote(-3000)\n",
    "except InvalidSalaryIncrementException as e:\n",
    "    print(\"Error:\", e)\n",
    "emp.display_info()\n",
    "```\n",
    "**Expected Output:**  \n",
    "```\n",
    "Error: Invalid increment: $-3000.00. It must be positive.\n",
    "Employee ID: EMP1002 | Name: Bob Smith | Salary: $60000.00\n",
    "```\n",
    "\n",
    "---\n",
    "\n",
    "#### **Test Case 3: Multiple Promotions**  \n",
    "**Input:**  \n",
    "```python\n",
    "emp = Employee(\"Charlie Brown\", \"EMP1003\", 45000)\n",
    "emp.promote(4000)\n",
    "emp.promote(6000)\n",
    "emp.display_info()\n",
    "```\n",
    "**Expected Output:**  \n",
    "```\n",
    "Charlie Brown has been promoted! New salary: $49000.00\n",
    "Charlie Brown has been promoted! New salary: $55000.00\n",
    "Employee ID: EMP1003 | Name: Charlie Brown | Salary: $55000.00\n",
    "```\n",
    "\n",
    "---\n",
    "\n",
    "#### **Test Case 4: Zero Salary Increment**  \n",
    "**Input:**  \n",
    "```python\n",
    "emp = Employee(\"David Miller\", \"EMP1004\", 70000)\n",
    "try:\n",
    "    emp.promote(0)\n",
    "except InvalidSalaryIncrementException as e:\n",
    "    print(\"Error:\", e)\n",
    "emp.display_info()\n",
    "```\n",
    "**Expected Output:**  \n",
    "```\n",
    "Error: Invalid increment: $0.00. It must be positive.\n",
    "Employee ID: EMP1004 | Name: David Miller | Salary: $70000.00\n",
    "```\n",
    "\n",
    "---\n",
    "\n",
    "### **Summary of Test Cases**\n",
    "| **Test Case** | **Input** | **Expected Output** |\n",
    "|--------------|----------|--------------------|\n",
    "| **Valid Salary Increment** | `promote(5000)` | Salary increases successfully |\n",
    "| **Invalid Salary Increment (Negative)** | `promote(-3000)` | Exception is raised |\n",
    "| **Multiple Promotions** | `promote(4000)`, `promote(6000)` | Salary updates twice correctly |\n",
    "| **Zero Salary Increment** | `promote(0)` | Exception is raised |\n",
    "\n"
   ]
  },
  {
   "cell_type": "code",
   "execution_count": 41,
   "metadata": {},
   "outputs": [],
   "source": [
    "class InvalidIncrementError(Exception):\n",
    "    \n",
    "    def __init__(self, message=\"Increment value must be a positive number.\"):\n",
    "        self.message = message\n",
    "        super().__init__(self.message)\n",
    "\n",
    "class Employee:\n",
    "    def __init__(self, name, id, salary):\n",
    "        self.name = name\n",
    "        self.id = id\n",
    "        self.salary = salary\n",
    "        \n",
    "    def promote(self, increment):\n",
    "        try:\n",
    "            if increment <= 0:\n",
    "                raise InvalidIncrementError(f'Error: Invalid Increment: ${increment}. Increment must be positive')\n",
    "            \n",
    "            self.salary += increment\n",
    "            print(f'{self.name} has been promoted! New Salary: ${self.salary}')\n",
    "        \n",
    "        except InvalidIncrementError as e:\n",
    "            print(f'Exception: {e}')\n",
    "        \n",
    "            \n",
    "        \n",
    "    def display_info(self):\n",
    "        print(f'Employee ID : {self.id} | Name: {self.name} | Salary: {self.salary}')"
   ]
  },
  {
   "cell_type": "code",
   "execution_count": 42,
   "metadata": {},
   "outputs": [],
   "source": [
    "emp1 = Employee('Avinash Pathak', 'EMP1001', 100000)"
   ]
  },
  {
   "cell_type": "code",
   "execution_count": 43,
   "metadata": {},
   "outputs": [
    {
     "name": "stdout",
     "output_type": "stream",
     "text": [
      "Employee ID : EMP1001 | Name: Avinash Pathak | Salary: 100000\n"
     ]
    }
   ],
   "source": [
    "emp1.display_info()"
   ]
  },
  {
   "cell_type": "code",
   "execution_count": 44,
   "metadata": {},
   "outputs": [
    {
     "name": "stdout",
     "output_type": "stream",
     "text": [
      "Exception: Error: Invalid Increment: $0. Increment must be positive\n"
     ]
    }
   ],
   "source": [
    "emp1.promote(0)"
   ]
  },
  {
   "cell_type": "code",
   "execution_count": 45,
   "metadata": {},
   "outputs": [
    {
     "name": "stdout",
     "output_type": "stream",
     "text": [
      "Avinash Pathak has been promoted! New Salary: $150000\n",
      "Avinash Pathak has been promoted! New Salary: $230000\n"
     ]
    }
   ],
   "source": [
    "emp1.promote(50000)\n",
    "emp1.promote(80000)"
   ]
  },
  {
   "cell_type": "code",
   "execution_count": 46,
   "metadata": {},
   "outputs": [
    {
     "name": "stdout",
     "output_type": "stream",
     "text": [
      "Exception: Error: Invalid Increment: $-3300. Increment must be positive\n"
     ]
    }
   ],
   "source": [
    "emp1.promote(-3300)"
   ]
  }
 ],
 "metadata": {
  "colab": {
   "provenance": []
  },
  "kernelspec": {
   "display_name": "base",
   "language": "python",
   "name": "python3"
  },
  "language_info": {
   "codemirror_mode": {
    "name": "ipython",
    "version": 3
   },
   "file_extension": ".py",
   "mimetype": "text/x-python",
   "name": "python",
   "nbconvert_exporter": "python",
   "pygments_lexer": "ipython3",
   "version": "3.12.9"
  }
 },
 "nbformat": 4,
 "nbformat_minor": 1
}
