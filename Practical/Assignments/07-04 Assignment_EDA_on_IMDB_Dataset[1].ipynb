{
 "cells": [
  {
   "cell_type": "markdown",
   "metadata": {
    "id": "3_Fv7J8jTBlu"
   },
   "source": [
    "## You have been hired by a rookie movie producer to help him decide what type of movies to produce and which actors to cast. You have to back your recommendations based on thorough analysis of the data he shared with you which has the list of 3000 movies and the corresponding details.\n",
    "\n",
    "## As a data scientist, you have to first explore the data and check its sanity.\n",
    "\n",
    "## Further, you have to answer the following questions:\n",
    "1. ### <b> Which movie made the highest profit? Who were its producer and director? Identify the actors in that film.</b>\n",
    "2. ### <b>This data has information about movies made in different languages. Which language has the highest average ROI (return on investment)? </b>\n",
    "3. ### <b> Find out the unique genres of movies in this dataset.</b>\n",
    "4. ### <b> Make a table of all the producers and directors of each movie. Find the top 3 producers who have produced movies with the highest average RoI? </b>\n",
    "5. ### <b> Which actor has acted in the most number of movies? Deep dive into the movies, genres and profits corresponding to this actor. </b>\n",
    "6. ### <b>Top 3 directors prefer which actors the most? </b>\n",
    "\n"
   ]
  },
  {
   "cell_type": "markdown",
   "metadata": {
    "id": "Fx8CVjtZW_BF"
   },
   "source": [
    "# Data Exploration"
   ]
  },
  {
   "cell_type": "code",
   "execution_count": 171,
   "metadata": {
    "id": "vq7iMfybnKNP"
   },
   "outputs": [],
   "source": [
    "#Import required packages\n",
    "import pandas as pd\n",
    "import numpy as np\n",
    "import re"
   ]
  },
  {
   "cell_type": "code",
   "execution_count": 2,
   "metadata": {
    "id": "mZ4nse2rDm-l"
   },
   "outputs": [
    {
     "name": "stderr",
     "output_type": "stream",
     "text": [
      "<>:1: SyntaxWarning: invalid escape sequence '\\P'\n",
      "<>:1: SyntaxWarning: invalid escape sequence '\\P'\n",
      "C:\\Users\\SUNIL\\AppData\\Local\\Temp\\ipykernel_7652\\2135506090.py:1: SyntaxWarning: invalid escape sequence '\\P'\n",
      "  df = pd.read_csv('C:/Users/SUNIL/Desktop/G34-Python\\Practical/29-03 Materials/imdb_data.csv')\n"
     ]
    },
    {
     "data": {
      "text/html": [
       "<div>\n",
       "<style scoped>\n",
       "    .dataframe tbody tr th:only-of-type {\n",
       "        vertical-align: middle;\n",
       "    }\n",
       "\n",
       "    .dataframe tbody tr th {\n",
       "        vertical-align: top;\n",
       "    }\n",
       "\n",
       "    .dataframe thead th {\n",
       "        text-align: right;\n",
       "    }\n",
       "</style>\n",
       "<table border=\"1\" class=\"dataframe\">\n",
       "  <thead>\n",
       "    <tr style=\"text-align: right;\">\n",
       "      <th></th>\n",
       "      <th>id</th>\n",
       "      <th>belongs_to_collection</th>\n",
       "      <th>budget</th>\n",
       "      <th>genres</th>\n",
       "      <th>homepage</th>\n",
       "      <th>imdb_id</th>\n",
       "      <th>original_language</th>\n",
       "      <th>original_title</th>\n",
       "      <th>overview</th>\n",
       "      <th>popularity</th>\n",
       "      <th>...</th>\n",
       "      <th>release_date</th>\n",
       "      <th>runtime</th>\n",
       "      <th>spoken_languages</th>\n",
       "      <th>status</th>\n",
       "      <th>tagline</th>\n",
       "      <th>title</th>\n",
       "      <th>Keywords</th>\n",
       "      <th>cast</th>\n",
       "      <th>crew</th>\n",
       "      <th>revenue</th>\n",
       "    </tr>\n",
       "  </thead>\n",
       "  <tbody>\n",
       "    <tr>\n",
       "      <th>0</th>\n",
       "      <td>1</td>\n",
       "      <td>[{'id': 313576, 'name': 'Hot Tub Time Machine ...</td>\n",
       "      <td>14000000</td>\n",
       "      <td>[{'id': 35, 'name': 'Comedy'}]</td>\n",
       "      <td>NaN</td>\n",
       "      <td>tt2637294</td>\n",
       "      <td>en</td>\n",
       "      <td>Hot Tub Time Machine 2</td>\n",
       "      <td>When Lou, who has become the \"father of the In...</td>\n",
       "      <td>6.575393</td>\n",
       "      <td>...</td>\n",
       "      <td>2/20/15</td>\n",
       "      <td>93.0</td>\n",
       "      <td>[{'iso_639_1': 'en', 'name': 'English'}]</td>\n",
       "      <td>Released</td>\n",
       "      <td>The Laws of Space and Time are About to be Vio...</td>\n",
       "      <td>Hot Tub Time Machine 2</td>\n",
       "      <td>[{'id': 4379, 'name': 'time travel'}, {'id': 9...</td>\n",
       "      <td>[{'cast_id': 4, 'character': 'Lou', 'credit_id...</td>\n",
       "      <td>[{'credit_id': '59ac067c92514107af02c8c8', 'de...</td>\n",
       "      <td>12314651</td>\n",
       "    </tr>\n",
       "    <tr>\n",
       "      <th>1</th>\n",
       "      <td>2</td>\n",
       "      <td>[{'id': 107674, 'name': 'The Princess Diaries ...</td>\n",
       "      <td>40000000</td>\n",
       "      <td>[{'id': 35, 'name': 'Comedy'}, {'id': 18, 'nam...</td>\n",
       "      <td>NaN</td>\n",
       "      <td>tt0368933</td>\n",
       "      <td>en</td>\n",
       "      <td>The Princess Diaries 2: Royal Engagement</td>\n",
       "      <td>Mia Thermopolis is now a college graduate and ...</td>\n",
       "      <td>8.248895</td>\n",
       "      <td>...</td>\n",
       "      <td>8/6/04</td>\n",
       "      <td>113.0</td>\n",
       "      <td>[{'iso_639_1': 'en', 'name': 'English'}]</td>\n",
       "      <td>Released</td>\n",
       "      <td>It can take a lifetime to find true love; she'...</td>\n",
       "      <td>The Princess Diaries 2: Royal Engagement</td>\n",
       "      <td>[{'id': 2505, 'name': 'coronation'}, {'id': 42...</td>\n",
       "      <td>[{'cast_id': 1, 'character': 'Mia Thermopolis'...</td>\n",
       "      <td>[{'credit_id': '52fe43fe9251416c7502563d', 'de...</td>\n",
       "      <td>95149435</td>\n",
       "    </tr>\n",
       "    <tr>\n",
       "      <th>2</th>\n",
       "      <td>3</td>\n",
       "      <td>NaN</td>\n",
       "      <td>3300000</td>\n",
       "      <td>[{'id': 18, 'name': 'Drama'}]</td>\n",
       "      <td>http://sonyclassics.com/whiplash/</td>\n",
       "      <td>tt2582802</td>\n",
       "      <td>en</td>\n",
       "      <td>Whiplash</td>\n",
       "      <td>Under the direction of a ruthless instructor, ...</td>\n",
       "      <td>64.299990</td>\n",
       "      <td>...</td>\n",
       "      <td>10/10/14</td>\n",
       "      <td>105.0</td>\n",
       "      <td>[{'iso_639_1': 'en', 'name': 'English'}]</td>\n",
       "      <td>Released</td>\n",
       "      <td>The road to greatness can take you to the edge.</td>\n",
       "      <td>Whiplash</td>\n",
       "      <td>[{'id': 1416, 'name': 'jazz'}, {'id': 1523, 'n...</td>\n",
       "      <td>[{'cast_id': 5, 'character': 'Andrew Neimann',...</td>\n",
       "      <td>[{'credit_id': '54d5356ec3a3683ba0000039', 'de...</td>\n",
       "      <td>13092000</td>\n",
       "    </tr>\n",
       "    <tr>\n",
       "      <th>3</th>\n",
       "      <td>4</td>\n",
       "      <td>NaN</td>\n",
       "      <td>1200000</td>\n",
       "      <td>[{'id': 53, 'name': 'Thriller'}, {'id': 18, 'n...</td>\n",
       "      <td>http://kahaanithefilm.com/</td>\n",
       "      <td>tt1821480</td>\n",
       "      <td>hi</td>\n",
       "      <td>Kahaani</td>\n",
       "      <td>Vidya Bagchi (Vidya Balan) arrives in Kolkata ...</td>\n",
       "      <td>3.174936</td>\n",
       "      <td>...</td>\n",
       "      <td>3/9/12</td>\n",
       "      <td>122.0</td>\n",
       "      <td>[{'iso_639_1': 'en', 'name': 'English'}, {'iso...</td>\n",
       "      <td>Released</td>\n",
       "      <td>NaN</td>\n",
       "      <td>Kahaani</td>\n",
       "      <td>[{'id': 10092, 'name': 'mystery'}, {'id': 1054...</td>\n",
       "      <td>[{'cast_id': 1, 'character': 'Vidya Bagchi', '...</td>\n",
       "      <td>[{'credit_id': '52fe48779251416c9108d6eb', 'de...</td>\n",
       "      <td>16000000</td>\n",
       "    </tr>\n",
       "    <tr>\n",
       "      <th>4</th>\n",
       "      <td>5</td>\n",
       "      <td>NaN</td>\n",
       "      <td>0</td>\n",
       "      <td>[{'id': 28, 'name': 'Action'}, {'id': 53, 'nam...</td>\n",
       "      <td>NaN</td>\n",
       "      <td>tt1380152</td>\n",
       "      <td>ko</td>\n",
       "      <td>마린보이</td>\n",
       "      <td>Marine Boy is the story of a former national s...</td>\n",
       "      <td>1.148070</td>\n",
       "      <td>...</td>\n",
       "      <td>2/5/09</td>\n",
       "      <td>118.0</td>\n",
       "      <td>[{'iso_639_1': 'ko', 'name': '한국어/조선말'}]</td>\n",
       "      <td>Released</td>\n",
       "      <td>NaN</td>\n",
       "      <td>Marine Boy</td>\n",
       "      <td>NaN</td>\n",
       "      <td>[{'cast_id': 3, 'character': 'Chun-soo', 'cred...</td>\n",
       "      <td>[{'credit_id': '52fe464b9251416c75073b43', 'de...</td>\n",
       "      <td>3923970</td>\n",
       "    </tr>\n",
       "  </tbody>\n",
       "</table>\n",
       "<p>5 rows × 23 columns</p>\n",
       "</div>"
      ],
      "text/plain": [
       "   id                              belongs_to_collection    budget  \\\n",
       "0   1  [{'id': 313576, 'name': 'Hot Tub Time Machine ...  14000000   \n",
       "1   2  [{'id': 107674, 'name': 'The Princess Diaries ...  40000000   \n",
       "2   3                                                NaN   3300000   \n",
       "3   4                                                NaN   1200000   \n",
       "4   5                                                NaN         0   \n",
       "\n",
       "                                              genres  \\\n",
       "0                     [{'id': 35, 'name': 'Comedy'}]   \n",
       "1  [{'id': 35, 'name': 'Comedy'}, {'id': 18, 'nam...   \n",
       "2                      [{'id': 18, 'name': 'Drama'}]   \n",
       "3  [{'id': 53, 'name': 'Thriller'}, {'id': 18, 'n...   \n",
       "4  [{'id': 28, 'name': 'Action'}, {'id': 53, 'nam...   \n",
       "\n",
       "                            homepage    imdb_id original_language  \\\n",
       "0                                NaN  tt2637294                en   \n",
       "1                                NaN  tt0368933                en   \n",
       "2  http://sonyclassics.com/whiplash/  tt2582802                en   \n",
       "3         http://kahaanithefilm.com/  tt1821480                hi   \n",
       "4                                NaN  tt1380152                ko   \n",
       "\n",
       "                             original_title  \\\n",
       "0                    Hot Tub Time Machine 2   \n",
       "1  The Princess Diaries 2: Royal Engagement   \n",
       "2                                  Whiplash   \n",
       "3                                   Kahaani   \n",
       "4                                      마린보이   \n",
       "\n",
       "                                            overview  popularity  ...  \\\n",
       "0  When Lou, who has become the \"father of the In...    6.575393  ...   \n",
       "1  Mia Thermopolis is now a college graduate and ...    8.248895  ...   \n",
       "2  Under the direction of a ruthless instructor, ...   64.299990  ...   \n",
       "3  Vidya Bagchi (Vidya Balan) arrives in Kolkata ...    3.174936  ...   \n",
       "4  Marine Boy is the story of a former national s...    1.148070  ...   \n",
       "\n",
       "  release_date runtime                                   spoken_languages  \\\n",
       "0      2/20/15    93.0           [{'iso_639_1': 'en', 'name': 'English'}]   \n",
       "1       8/6/04   113.0           [{'iso_639_1': 'en', 'name': 'English'}]   \n",
       "2     10/10/14   105.0           [{'iso_639_1': 'en', 'name': 'English'}]   \n",
       "3       3/9/12   122.0  [{'iso_639_1': 'en', 'name': 'English'}, {'iso...   \n",
       "4       2/5/09   118.0           [{'iso_639_1': 'ko', 'name': '한국어/조선말'}]   \n",
       "\n",
       "     status                                            tagline  \\\n",
       "0  Released  The Laws of Space and Time are About to be Vio...   \n",
       "1  Released  It can take a lifetime to find true love; she'...   \n",
       "2  Released    The road to greatness can take you to the edge.   \n",
       "3  Released                                                NaN   \n",
       "4  Released                                                NaN   \n",
       "\n",
       "                                      title  \\\n",
       "0                    Hot Tub Time Machine 2   \n",
       "1  The Princess Diaries 2: Royal Engagement   \n",
       "2                                  Whiplash   \n",
       "3                                   Kahaani   \n",
       "4                                Marine Boy   \n",
       "\n",
       "                                            Keywords  \\\n",
       "0  [{'id': 4379, 'name': 'time travel'}, {'id': 9...   \n",
       "1  [{'id': 2505, 'name': 'coronation'}, {'id': 42...   \n",
       "2  [{'id': 1416, 'name': 'jazz'}, {'id': 1523, 'n...   \n",
       "3  [{'id': 10092, 'name': 'mystery'}, {'id': 1054...   \n",
       "4                                                NaN   \n",
       "\n",
       "                                                cast  \\\n",
       "0  [{'cast_id': 4, 'character': 'Lou', 'credit_id...   \n",
       "1  [{'cast_id': 1, 'character': 'Mia Thermopolis'...   \n",
       "2  [{'cast_id': 5, 'character': 'Andrew Neimann',...   \n",
       "3  [{'cast_id': 1, 'character': 'Vidya Bagchi', '...   \n",
       "4  [{'cast_id': 3, 'character': 'Chun-soo', 'cred...   \n",
       "\n",
       "                                                crew   revenue  \n",
       "0  [{'credit_id': '59ac067c92514107af02c8c8', 'de...  12314651  \n",
       "1  [{'credit_id': '52fe43fe9251416c7502563d', 'de...  95149435  \n",
       "2  [{'credit_id': '54d5356ec3a3683ba0000039', 'de...  13092000  \n",
       "3  [{'credit_id': '52fe48779251416c9108d6eb', 'de...  16000000  \n",
       "4  [{'credit_id': '52fe464b9251416c75073b43', 'de...   3923970  \n",
       "\n",
       "[5 rows x 23 columns]"
      ]
     },
     "execution_count": 2,
     "metadata": {},
     "output_type": "execute_result"
    }
   ],
   "source": [
    "df = pd.read_csv('C:/Users/SUNIL/Desktop/G34-Python\\Practical/29-03 Materials/imdb_data.csv')\n",
    "df.head()"
   ]
  },
  {
   "cell_type": "code",
   "execution_count": 3,
   "metadata": {},
   "outputs": [],
   "source": [
    "df.drop(columns=['id', 'belongs_to_collection', 'homepage', 'imdb_id', 'original_title', 'poster_path'], inplace=True)"
   ]
  },
  {
   "cell_type": "code",
   "execution_count": 4,
   "metadata": {},
   "outputs": [
    {
     "data": {
      "text/plain": [
       "Index(['budget', 'genres', 'original_language', 'overview', 'popularity',\n",
       "       'production_companies', 'production_countries', 'release_date',\n",
       "       'runtime', 'spoken_languages', 'status', 'tagline', 'title', 'Keywords',\n",
       "       'cast', 'crew', 'revenue'],\n",
       "      dtype='object')"
      ]
     },
     "execution_count": 4,
     "metadata": {},
     "output_type": "execute_result"
    }
   ],
   "source": [
    "df.columns"
   ]
  },
  {
   "cell_type": "code",
   "execution_count": 6,
   "metadata": {},
   "outputs": [
    {
     "data": {
      "text/plain": [
       "(3000, 17)"
      ]
     },
     "execution_count": 6,
     "metadata": {},
     "output_type": "execute_result"
    }
   ],
   "source": [
    "df.shape"
   ]
  },
  {
   "cell_type": "code",
   "execution_count": 7,
   "metadata": {},
   "outputs": [
    {
     "name": "stdout",
     "output_type": "stream",
     "text": [
      "<class 'pandas.core.frame.DataFrame'>\n",
      "RangeIndex: 3000 entries, 0 to 2999\n",
      "Data columns (total 17 columns):\n",
      " #   Column                Non-Null Count  Dtype  \n",
      "---  ------                --------------  -----  \n",
      " 0   budget                3000 non-null   int64  \n",
      " 1   genres                2993 non-null   object \n",
      " 2   original_language     3000 non-null   object \n",
      " 3   overview              2992 non-null   object \n",
      " 4   popularity            3000 non-null   float64\n",
      " 5   production_companies  2844 non-null   object \n",
      " 6   production_countries  2945 non-null   object \n",
      " 7   release_date          3000 non-null   object \n",
      " 8   runtime               2998 non-null   float64\n",
      " 9   spoken_languages      2980 non-null   object \n",
      " 10  status                3000 non-null   object \n",
      " 11  tagline               2403 non-null   object \n",
      " 12  title                 3000 non-null   object \n",
      " 13  Keywords              2724 non-null   object \n",
      " 14  cast                  2987 non-null   object \n",
      " 15  crew                  2984 non-null   object \n",
      " 16  revenue               3000 non-null   int64  \n",
      "dtypes: float64(2), int64(2), object(13)\n",
      "memory usage: 398.6+ KB\n"
     ]
    }
   ],
   "source": [
    "df.info()"
   ]
  },
  {
   "cell_type": "markdown",
   "metadata": {},
   "source": [
    "#### 1. Which movie made the highest profit? Who were its producer and director? Identify the actors in that film.</b>\n"
   ]
  },
  {
   "cell_type": "code",
   "execution_count": 8,
   "metadata": {},
   "outputs": [
    {
     "name": "stderr",
     "output_type": "stream",
     "text": [
      "C:\\Users\\SUNIL\\AppData\\Local\\Temp\\ipykernel_7652\\918564604.py:1: FutureWarning: A value is trying to be set on a copy of a DataFrame or Series through chained assignment using an inplace method.\n",
      "The behavior will change in pandas 3.0. This inplace method will never work because the intermediate object on which we are setting values always behaves as a copy.\n",
      "\n",
      "For example, when doing 'df[col].method(value, inplace=True)', try using 'df.method({col: value}, inplace=True)' or df[col] = df[col].method(value) instead, to perform the operation inplace on the original object.\n",
      "\n",
      "\n",
      "  df['budget'].replace(df[df['budget'] < 1000]['budget'].values, df['budget'].median(), inplace=True)\n"
     ]
    }
   ],
   "source": [
    "df['budget'].replace(df[df['budget'] < 1000]['budget'].values, df['budget'].median(), inplace=True)"
   ]
  },
  {
   "cell_type": "code",
   "execution_count": 9,
   "metadata": {},
   "outputs": [
    {
     "data": {
      "text/plain": [
       "0        -1685349\n",
       "1        55149435\n",
       "2         9792000\n",
       "3        14800000\n",
       "4        -4076030\n",
       "          ...    \n",
       "2995     -6403313\n",
       "2996     -7819410\n",
       "2997     24456761\n",
       "2998    129963386\n",
       "2999     47087155\n",
       "Name: profit, Length: 3000, dtype: int64"
      ]
     },
     "execution_count": 9,
     "metadata": {},
     "output_type": "execute_result"
    }
   ],
   "source": [
    "df['profit'] = df['revenue'] - df['budget']\n",
    "df['profit']"
   ]
  },
  {
   "cell_type": "code",
   "execution_count": 10,
   "metadata": {},
   "outputs": [
    {
     "data": {
      "text/plain": [
       "'Furious 7'"
      ]
     },
     "execution_count": 10,
     "metadata": {},
     "output_type": "execute_result"
    }
   ],
   "source": [
    "highest_profit_movie = df.groupby('title')['profit'].max().sort_values(ascending=False).index[0]\n",
    "highest_profit_movie"
   ]
  },
  {
   "cell_type": "code",
   "execution_count": 11,
   "metadata": {},
   "outputs": [],
   "source": [
    "cast = df[df['title'] == highest_profit_movie]['cast'].values[0].split('\\'character\\'')\n",
    "crew = df[df['title'] == highest_profit_movie]['crew']"
   ]
  },
  {
   "cell_type": "code",
   "execution_count": 12,
   "metadata": {},
   "outputs": [
    {
     "name": "stdout",
     "output_type": "stream",
     "text": [
      "Movie that made the highest profit: Furious 7\n",
      "Director:  'James Wan'\n",
      "Producers: [\" 'Vin Diesel'\", \" 'Neal H. Moritz'\", \" 'Michael Fottrell'\", \" 'Brandon Birtell'\"]\n",
      "Actors: [\"'Dominic Toretto'\", '\"Brian O\\'Conner\"', \"'Hobbs'\", \"'Letty'\", \"'Roman'\", '\"Tej (as Chris \\'Ludacris\\' Bridges)\"', \"'Mia'\", \"'Jakande'\", \"'Kiet'\", \"'Kara'\", \"'Ramsey'\", \"'Mr. Nobody'\", \"'Deckard Shaw'\", \"'Han'\", \"'Gisele'\", \"'Sean Boswell'\", \"'Elena'\", \"'Hector'\", \"'Sheppard'\", \"'Owen Shaw'\", \"'Safar'\", \"'Jack'\", \"'Jack'\", \"'Samantha Hobbs'\", \"'Letty Fan'\", \"'Female Racer'\", \"'Male Racer'\", \"'Race Starter'\", \"'Hot Teacher'\", \"'Doctor'\", \"'Priest'\", \"'Merc Tech'\", \"'Weapons Tech'\", \"'Billionaire'\", \"'Dominican Priest'\", \"'Hana'\", \"'Merc Driver (as Ben Blankenship)'\", \"'DJ'\", \"'DJ'\", \"'Drone Tech'\", \"'Jasmine'\", \"'Mando'\", \"'Advisor'\", \"'Field Reporter'\", \"'Cop'\", \"'Leo (uncredited / archive)'\", \"'Neela (uncredited / archive)'\", \"'Twinkie (uncredited)'\", \"'Santos (uncredited / archive)'\", \"'Race Wars Racer (uncredited)'\", '\"Brian O\\'Conner (uncredited)\"', '\"Brian O\\'Connor (uncredited)\"']\n"
     ]
    }
   ],
   "source": [
    "producer_lst = []\n",
    "actors_lst = []\n",
    "director = None\n",
    "\n",
    "for i in crew.values[0].split('\\'Producer\\', \\'name\\':')[1:]:\n",
    "    producer_lst.append(i.split(',')[0])\n",
    "\n",
    "director = crew.values[0].split('\\'Director\\', \\'name\\':')[1:][0].split(',')[0]\n",
    "\n",
    "for i in range(1, len(cast)):\n",
    "    actors_lst.append(cast[i].split(',')[0].lstrip(': '))\n",
    "\n",
    "print(f'Movie that made the highest profit: {highest_profit_movie}\\nDirector: {director}\\nProducers: {producer_lst}\\nActors: {actors_lst}')"
   ]
  },
  {
   "cell_type": "markdown",
   "metadata": {},
   "source": [
    "#### 2. This data has information about movies made in different languages. Which language has the highest average ROI (return on investment)?"
   ]
  },
  {
   "cell_type": "code",
   "execution_count": 13,
   "metadata": {},
   "outputs": [
    {
     "data": {
      "text/html": [
       "<div>\n",
       "<style scoped>\n",
       "    .dataframe tbody tr th:only-of-type {\n",
       "        vertical-align: middle;\n",
       "    }\n",
       "\n",
       "    .dataframe tbody tr th {\n",
       "        vertical-align: top;\n",
       "    }\n",
       "\n",
       "    .dataframe thead th {\n",
       "        text-align: right;\n",
       "    }\n",
       "</style>\n",
       "<table border=\"1\" class=\"dataframe\">\n",
       "  <thead>\n",
       "    <tr style=\"text-align: right;\">\n",
       "      <th></th>\n",
       "      <th>budget</th>\n",
       "      <th>genres</th>\n",
       "      <th>original_language</th>\n",
       "      <th>overview</th>\n",
       "      <th>popularity</th>\n",
       "      <th>production_companies</th>\n",
       "      <th>production_countries</th>\n",
       "      <th>release_date</th>\n",
       "      <th>runtime</th>\n",
       "      <th>spoken_languages</th>\n",
       "      <th>status</th>\n",
       "      <th>tagline</th>\n",
       "      <th>title</th>\n",
       "      <th>Keywords</th>\n",
       "      <th>cast</th>\n",
       "      <th>crew</th>\n",
       "      <th>revenue</th>\n",
       "      <th>profit</th>\n",
       "      <th>roi</th>\n",
       "    </tr>\n",
       "  </thead>\n",
       "  <tbody>\n",
       "    <tr>\n",
       "      <th>0</th>\n",
       "      <td>14000000</td>\n",
       "      <td>[{'id': 35, 'name': 'Comedy'}]</td>\n",
       "      <td>en</td>\n",
       "      <td>When Lou, who has become the \"father of the In...</td>\n",
       "      <td>6.575393</td>\n",
       "      <td>[{'name': 'Paramount Pictures', 'id': 4}, {'na...</td>\n",
       "      <td>[{'iso_3166_1': 'US', 'name': 'United States o...</td>\n",
       "      <td>2/20/15</td>\n",
       "      <td>93.0</td>\n",
       "      <td>[{'iso_639_1': 'en', 'name': 'English'}]</td>\n",
       "      <td>Released</td>\n",
       "      <td>The Laws of Space and Time are About to be Vio...</td>\n",
       "      <td>Hot Tub Time Machine 2</td>\n",
       "      <td>[{'id': 4379, 'name': 'time travel'}, {'id': 9...</td>\n",
       "      <td>[{'cast_id': 4, 'character': 'Lou', 'credit_id...</td>\n",
       "      <td>[{'credit_id': '59ac067c92514107af02c8c8', 'de...</td>\n",
       "      <td>12314651</td>\n",
       "      <td>-1685349</td>\n",
       "      <td>-12.04</td>\n",
       "    </tr>\n",
       "    <tr>\n",
       "      <th>1</th>\n",
       "      <td>40000000</td>\n",
       "      <td>[{'id': 35, 'name': 'Comedy'}, {'id': 18, 'nam...</td>\n",
       "      <td>en</td>\n",
       "      <td>Mia Thermopolis is now a college graduate and ...</td>\n",
       "      <td>8.248895</td>\n",
       "      <td>[{'name': 'Walt Disney Pictures', 'id': 2}]</td>\n",
       "      <td>[{'iso_3166_1': 'US', 'name': 'United States o...</td>\n",
       "      <td>8/6/04</td>\n",
       "      <td>113.0</td>\n",
       "      <td>[{'iso_639_1': 'en', 'name': 'English'}]</td>\n",
       "      <td>Released</td>\n",
       "      <td>It can take a lifetime to find true love; she'...</td>\n",
       "      <td>The Princess Diaries 2: Royal Engagement</td>\n",
       "      <td>[{'id': 2505, 'name': 'coronation'}, {'id': 42...</td>\n",
       "      <td>[{'cast_id': 1, 'character': 'Mia Thermopolis'...</td>\n",
       "      <td>[{'credit_id': '52fe43fe9251416c7502563d', 'de...</td>\n",
       "      <td>95149435</td>\n",
       "      <td>55149435</td>\n",
       "      <td>137.87</td>\n",
       "    </tr>\n",
       "  </tbody>\n",
       "</table>\n",
       "</div>"
      ],
      "text/plain": [
       "     budget                                             genres  \\\n",
       "0  14000000                     [{'id': 35, 'name': 'Comedy'}]   \n",
       "1  40000000  [{'id': 35, 'name': 'Comedy'}, {'id': 18, 'nam...   \n",
       "\n",
       "  original_language                                           overview  \\\n",
       "0                en  When Lou, who has become the \"father of the In...   \n",
       "1                en  Mia Thermopolis is now a college graduate and ...   \n",
       "\n",
       "   popularity                               production_companies  \\\n",
       "0    6.575393  [{'name': 'Paramount Pictures', 'id': 4}, {'na...   \n",
       "1    8.248895        [{'name': 'Walt Disney Pictures', 'id': 2}]   \n",
       "\n",
       "                                production_countries release_date  runtime  \\\n",
       "0  [{'iso_3166_1': 'US', 'name': 'United States o...      2/20/15     93.0   \n",
       "1  [{'iso_3166_1': 'US', 'name': 'United States o...       8/6/04    113.0   \n",
       "\n",
       "                           spoken_languages    status  \\\n",
       "0  [{'iso_639_1': 'en', 'name': 'English'}]  Released   \n",
       "1  [{'iso_639_1': 'en', 'name': 'English'}]  Released   \n",
       "\n",
       "                                             tagline  \\\n",
       "0  The Laws of Space and Time are About to be Vio...   \n",
       "1  It can take a lifetime to find true love; she'...   \n",
       "\n",
       "                                      title  \\\n",
       "0                    Hot Tub Time Machine 2   \n",
       "1  The Princess Diaries 2: Royal Engagement   \n",
       "\n",
       "                                            Keywords  \\\n",
       "0  [{'id': 4379, 'name': 'time travel'}, {'id': 9...   \n",
       "1  [{'id': 2505, 'name': 'coronation'}, {'id': 42...   \n",
       "\n",
       "                                                cast  \\\n",
       "0  [{'cast_id': 4, 'character': 'Lou', 'credit_id...   \n",
       "1  [{'cast_id': 1, 'character': 'Mia Thermopolis'...   \n",
       "\n",
       "                                                crew   revenue    profit  \\\n",
       "0  [{'credit_id': '59ac067c92514107af02c8c8', 'de...  12314651  -1685349   \n",
       "1  [{'credit_id': '52fe43fe9251416c7502563d', 'de...  95149435  55149435   \n",
       "\n",
       "      roi  \n",
       "0  -12.04  \n",
       "1  137.87  "
      ]
     },
     "execution_count": 13,
     "metadata": {},
     "output_type": "execute_result"
    }
   ],
   "source": [
    "df['roi'] = round((df['profit'] / df['budget'])*100, 2)\n",
    "df.head(2)"
   ]
  },
  {
   "cell_type": "code",
   "execution_count": null,
   "metadata": {},
   "outputs": [],
   "source": []
  },
  {
   "cell_type": "code",
   "execution_count": 14,
   "metadata": {},
   "outputs": [
    {
     "name": "stdout",
     "output_type": "stream",
     "text": [
      "Language that has highest return on investment: en\n"
     ]
    }
   ],
   "source": [
    "highest_roi_lang = df.groupby('original_language')['roi'].max().sort_values(ascending=False).index[0]\n",
    "print(f'Language that has highest return on investment: {highest_roi_lang}')"
   ]
  },
  {
   "cell_type": "markdown",
   "metadata": {},
   "source": [
    "#### 3. Find out the unique genres of movies in this dataset."
   ]
  },
  {
   "cell_type": "code",
   "execution_count": 15,
   "metadata": {},
   "outputs": [
    {
     "data": {
      "text/html": [
       "<div>\n",
       "<style scoped>\n",
       "    .dataframe tbody tr th:only-of-type {\n",
       "        vertical-align: middle;\n",
       "    }\n",
       "\n",
       "    .dataframe tbody tr th {\n",
       "        vertical-align: top;\n",
       "    }\n",
       "\n",
       "    .dataframe thead th {\n",
       "        text-align: right;\n",
       "    }\n",
       "</style>\n",
       "<table border=\"1\" class=\"dataframe\">\n",
       "  <thead>\n",
       "    <tr style=\"text-align: right;\">\n",
       "      <th></th>\n",
       "      <th>budget</th>\n",
       "      <th>genres</th>\n",
       "      <th>original_language</th>\n",
       "      <th>overview</th>\n",
       "      <th>popularity</th>\n",
       "      <th>production_companies</th>\n",
       "      <th>production_countries</th>\n",
       "      <th>release_date</th>\n",
       "      <th>runtime</th>\n",
       "      <th>spoken_languages</th>\n",
       "      <th>status</th>\n",
       "      <th>tagline</th>\n",
       "      <th>title</th>\n",
       "      <th>Keywords</th>\n",
       "      <th>cast</th>\n",
       "      <th>crew</th>\n",
       "      <th>revenue</th>\n",
       "      <th>profit</th>\n",
       "      <th>roi</th>\n",
       "    </tr>\n",
       "  </thead>\n",
       "  <tbody>\n",
       "    <tr>\n",
       "      <th>0</th>\n",
       "      <td>14000000</td>\n",
       "      <td>[{'id': 35, 'name': 'Comedy'}]</td>\n",
       "      <td>en</td>\n",
       "      <td>When Lou, who has become the \"father of the In...</td>\n",
       "      <td>6.575393</td>\n",
       "      <td>[{'name': 'Paramount Pictures', 'id': 4}, {'na...</td>\n",
       "      <td>[{'iso_3166_1': 'US', 'name': 'United States o...</td>\n",
       "      <td>2/20/15</td>\n",
       "      <td>93.0</td>\n",
       "      <td>[{'iso_639_1': 'en', 'name': 'English'}]</td>\n",
       "      <td>Released</td>\n",
       "      <td>The Laws of Space and Time are About to be Vio...</td>\n",
       "      <td>Hot Tub Time Machine 2</td>\n",
       "      <td>[{'id': 4379, 'name': 'time travel'}, {'id': 9...</td>\n",
       "      <td>[{'cast_id': 4, 'character': 'Lou', 'credit_id...</td>\n",
       "      <td>[{'credit_id': '59ac067c92514107af02c8c8', 'de...</td>\n",
       "      <td>12314651</td>\n",
       "      <td>-1685349</td>\n",
       "      <td>-12.04</td>\n",
       "    </tr>\n",
       "    <tr>\n",
       "      <th>1</th>\n",
       "      <td>40000000</td>\n",
       "      <td>[{'id': 35, 'name': 'Comedy'}, {'id': 18, 'nam...</td>\n",
       "      <td>en</td>\n",
       "      <td>Mia Thermopolis is now a college graduate and ...</td>\n",
       "      <td>8.248895</td>\n",
       "      <td>[{'name': 'Walt Disney Pictures', 'id': 2}]</td>\n",
       "      <td>[{'iso_3166_1': 'US', 'name': 'United States o...</td>\n",
       "      <td>8/6/04</td>\n",
       "      <td>113.0</td>\n",
       "      <td>[{'iso_639_1': 'en', 'name': 'English'}]</td>\n",
       "      <td>Released</td>\n",
       "      <td>It can take a lifetime to find true love; she'...</td>\n",
       "      <td>The Princess Diaries 2: Royal Engagement</td>\n",
       "      <td>[{'id': 2505, 'name': 'coronation'}, {'id': 42...</td>\n",
       "      <td>[{'cast_id': 1, 'character': 'Mia Thermopolis'...</td>\n",
       "      <td>[{'credit_id': '52fe43fe9251416c7502563d', 'de...</td>\n",
       "      <td>95149435</td>\n",
       "      <td>55149435</td>\n",
       "      <td>137.87</td>\n",
       "    </tr>\n",
       "  </tbody>\n",
       "</table>\n",
       "</div>"
      ],
      "text/plain": [
       "     budget                                             genres  \\\n",
       "0  14000000                     [{'id': 35, 'name': 'Comedy'}]   \n",
       "1  40000000  [{'id': 35, 'name': 'Comedy'}, {'id': 18, 'nam...   \n",
       "\n",
       "  original_language                                           overview  \\\n",
       "0                en  When Lou, who has become the \"father of the In...   \n",
       "1                en  Mia Thermopolis is now a college graduate and ...   \n",
       "\n",
       "   popularity                               production_companies  \\\n",
       "0    6.575393  [{'name': 'Paramount Pictures', 'id': 4}, {'na...   \n",
       "1    8.248895        [{'name': 'Walt Disney Pictures', 'id': 2}]   \n",
       "\n",
       "                                production_countries release_date  runtime  \\\n",
       "0  [{'iso_3166_1': 'US', 'name': 'United States o...      2/20/15     93.0   \n",
       "1  [{'iso_3166_1': 'US', 'name': 'United States o...       8/6/04    113.0   \n",
       "\n",
       "                           spoken_languages    status  \\\n",
       "0  [{'iso_639_1': 'en', 'name': 'English'}]  Released   \n",
       "1  [{'iso_639_1': 'en', 'name': 'English'}]  Released   \n",
       "\n",
       "                                             tagline  \\\n",
       "0  The Laws of Space and Time are About to be Vio...   \n",
       "1  It can take a lifetime to find true love; she'...   \n",
       "\n",
       "                                      title  \\\n",
       "0                    Hot Tub Time Machine 2   \n",
       "1  The Princess Diaries 2: Royal Engagement   \n",
       "\n",
       "                                            Keywords  \\\n",
       "0  [{'id': 4379, 'name': 'time travel'}, {'id': 9...   \n",
       "1  [{'id': 2505, 'name': 'coronation'}, {'id': 42...   \n",
       "\n",
       "                                                cast  \\\n",
       "0  [{'cast_id': 4, 'character': 'Lou', 'credit_id...   \n",
       "1  [{'cast_id': 1, 'character': 'Mia Thermopolis'...   \n",
       "\n",
       "                                                crew   revenue    profit  \\\n",
       "0  [{'credit_id': '59ac067c92514107af02c8c8', 'de...  12314651  -1685349   \n",
       "1  [{'credit_id': '52fe43fe9251416c7502563d', 'de...  95149435  55149435   \n",
       "\n",
       "      roi  \n",
       "0  -12.04  \n",
       "1  137.87  "
      ]
     },
     "execution_count": 15,
     "metadata": {},
     "output_type": "execute_result"
    }
   ],
   "source": [
    "df.head(2)"
   ]
  },
  {
   "cell_type": "code",
   "execution_count": 29,
   "metadata": {},
   "outputs": [
    {
     "name": "stdout",
     "output_type": "stream",
     "text": [
      " 'Action'\n",
      " 'Adventure'\n",
      " 'Comedy'\n",
      " 'Drama'\n",
      " 'Mystery'\n"
     ]
    }
   ],
   "source": [
    "for i in df['genres'].values[356].split(',')[1::2]:\n",
    "    print(i.split(':')[-1].strip('}]'))"
   ]
  },
  {
   "cell_type": "code",
   "execution_count": 74,
   "metadata": {},
   "outputs": [
    {
     "data": {
      "text/plain": [
       "0          'Comedy'\n",
       "1          'Comedy'\n",
       "2           'Drama'\n",
       "3        'Thriller'\n",
       "4          'Action'\n",
       "           ...     \n",
       "2995       'Comedy'\n",
       "2996        'Drama'\n",
       "2997        'Crime'\n",
       "2998       'Comedy'\n",
       "2999     'Thriller'\n",
       "Name: movie_genre, Length: 3000, dtype: object"
      ]
     },
     "execution_count": 74,
     "metadata": {},
     "output_type": "execute_result"
    }
   ],
   "source": [
    "def get_genre(val):\n",
    "    if type(val) == str:\n",
    "        return val.split(',')[1].split(':')[-1].strip('}]')\n",
    "    else:\n",
    "        pass\n",
    "\n",
    "df['movie_genre'] = df['genres'].apply(lambda x: get_genre(x))\n",
    "df['movie_genre']"
   ]
  },
  {
   "cell_type": "code",
   "execution_count": 78,
   "metadata": {},
   "outputs": [
    {
     "name": "stdout",
     "output_type": "stream",
     "text": [
      "Unique Genres in this dataset: \n",
      "[\" 'Comedy'\" \" 'Drama'\" \" 'Thriller'\" \" 'Action'\" \" 'Animation'\"\n",
      " \" 'Horror'\" \" 'Documentary'\" \" 'Adventure'\" \" 'Crime'\" \" 'Mystery'\"\n",
      " \" 'Fantasy'\" \" 'War'\" \" 'Science Fiction'\" \" 'Romance'\" \" 'Music'\"\n",
      " \" 'Western'\" \" 'Family'\" \" 'History'\" None \" 'Foreign'\" \" 'TV Movie'\"]\n"
     ]
    }
   ],
   "source": [
    "print('Unique Genres in this dataset: ', (df['movie_genre'].unique()), sep='\\n')"
   ]
  },
  {
   "cell_type": "markdown",
   "metadata": {},
   "source": [
    "#### 4. Make a table of all the producers and directors of each movie. Find the top 3 producers who have produced movies with the highest average RoI?"
   ]
  },
  {
   "cell_type": "code",
   "execution_count": null,
   "metadata": {},
   "outputs": [],
   "source": []
  },
  {
   "cell_type": "code",
   "execution_count": 119,
   "metadata": {},
   "outputs": [
    {
     "data": {
      "text/plain": [
       "0            [ 'Steve Pink']\n",
       "1        [ 'Garry Marshall']\n",
       "2       [ 'Damien Chazelle']\n",
       "3           [ 'Sujoy Ghosh']\n",
       "4        [ 'Jong-seok Yoon']\n",
       "                ...         \n",
       "2995      [ 'Dennis Hopper']\n",
       "2996    [ 'Lukas Moodysson']\n",
       "2997       [ 'Renny Harlin']\n",
       "2998       [ 'John Hamburg']\n",
       "2999     [ 'John Singleton']\n",
       "Name: crew, Length: 3000, dtype: object"
      ]
     },
     "execution_count": 119,
     "metadata": {},
     "output_type": "execute_result"
    }
   ],
   "source": [
    "def get_director(val):\n",
    "    director_lst = []\n",
    "    if type(val) == str:\n",
    "        for i in val.split('\\'Director\\', \\'name\\':')[1:]:\n",
    "            director_lst.append(i.split(',')[0])\n",
    "    else:\n",
    "        pass\n",
    "    return director_lst\n",
    "\n",
    "directors = df['crew'].apply(lambda x: get_director(x))\n",
    "directors"
   ]
  },
  {
   "cell_type": "code",
   "execution_count": 146,
   "metadata": {},
   "outputs": [
    {
     "data": {
      "text/plain": [
       "0                                       [ 'Andrew Panay']\n",
       "1       [ 'Whitney Houston',  'Mario Iscovich',  'Debr...\n",
       "2       [ 'David Lancaster',  'Michel Litvak',  'Jason...\n",
       "3                                        [ 'Sujoy Ghosh']\n",
       "4                                                      []\n",
       "                              ...                        \n",
       "2995                               [ 'James G. Robinson']\n",
       "2996                                   [ 'Lars J√∂nsson']\n",
       "2997    [ 'Stephanie Austin',  'Shane Black',  'Renny ...\n",
       "2998    [ 'Danny DeVito',  'Michael Shamberg',  'Stace...\n",
       "2999    [ 'Doug Davison',  'Roy Lee',  'Ellen Goldsmit...\n",
       "Name: crew, Length: 3000, dtype: object"
      ]
     },
     "execution_count": 146,
     "metadata": {},
     "output_type": "execute_result"
    }
   ],
   "source": [
    "def get_producer(val):\n",
    "    producer_lst = []\n",
    "    if type(val) == str:\n",
    "        for i in val.split('\\'Producer\\', \\'name\\':')[1:]:\n",
    "            producer_lst.append(i.split(',')[0])\n",
    "    else:\n",
    "        pass\n",
    "    return producer_lst\n",
    "\n",
    "producers = df['crew'].apply(lambda x: get_producer(x))\n",
    "producers"
   ]
  },
  {
   "cell_type": "code",
   "execution_count": 149,
   "metadata": {},
   "outputs": [
    {
     "data": {
      "text/html": [
       "<div>\n",
       "<style scoped>\n",
       "    .dataframe tbody tr th:only-of-type {\n",
       "        vertical-align: middle;\n",
       "    }\n",
       "\n",
       "    .dataframe tbody tr th {\n",
       "        vertical-align: top;\n",
       "    }\n",
       "\n",
       "    .dataframe thead th {\n",
       "        text-align: right;\n",
       "    }\n",
       "</style>\n",
       "<table border=\"1\" class=\"dataframe\">\n",
       "  <thead>\n",
       "    <tr style=\"text-align: right;\">\n",
       "      <th></th>\n",
       "      <th>Movie</th>\n",
       "      <th>Producers</th>\n",
       "      <th>Directors</th>\n",
       "      <th>ROI</th>\n",
       "    </tr>\n",
       "  </thead>\n",
       "  <tbody>\n",
       "    <tr>\n",
       "      <th>0</th>\n",
       "      <td>Hot Tub Time Machine 2</td>\n",
       "      <td>[ 'Andrew Panay']</td>\n",
       "      <td>[ 'Steve Pink']</td>\n",
       "      <td>-12.04</td>\n",
       "    </tr>\n",
       "    <tr>\n",
       "      <th>1</th>\n",
       "      <td>The Princess Diaries 2: Royal Engagement</td>\n",
       "      <td>[ 'Whitney Houston',  'Mario Iscovich',  'Debr...</td>\n",
       "      <td>[ 'Garry Marshall']</td>\n",
       "      <td>137.87</td>\n",
       "    </tr>\n",
       "    <tr>\n",
       "      <th>2</th>\n",
       "      <td>Whiplash</td>\n",
       "      <td>[ 'David Lancaster',  'Michel Litvak',  'Jason...</td>\n",
       "      <td>[ 'Damien Chazelle']</td>\n",
       "      <td>296.73</td>\n",
       "    </tr>\n",
       "    <tr>\n",
       "      <th>3</th>\n",
       "      <td>Kahaani</td>\n",
       "      <td>[ 'Sujoy Ghosh']</td>\n",
       "      <td>[ 'Sujoy Ghosh']</td>\n",
       "      <td>1233.33</td>\n",
       "    </tr>\n",
       "    <tr>\n",
       "      <th>4</th>\n",
       "      <td>Marine Boy</td>\n",
       "      <td>[]</td>\n",
       "      <td>[ 'Jong-seok Yoon']</td>\n",
       "      <td>-50.95</td>\n",
       "    </tr>\n",
       "    <tr>\n",
       "      <th>...</th>\n",
       "      <td>...</td>\n",
       "      <td>...</td>\n",
       "      <td>...</td>\n",
       "      <td>...</td>\n",
       "    </tr>\n",
       "    <tr>\n",
       "      <th>2995</th>\n",
       "      <td>Chasers</td>\n",
       "      <td>[ 'James G. Robinson']</td>\n",
       "      <td>[ 'Dennis Hopper']</td>\n",
       "      <td>-80.04</td>\n",
       "    </tr>\n",
       "    <tr>\n",
       "      <th>2996</th>\n",
       "      <td>We Are the Best!</td>\n",
       "      <td>[ 'Lars J√∂nsson']</td>\n",
       "      <td>[ 'Lukas Moodysson']</td>\n",
       "      <td>-97.74</td>\n",
       "    </tr>\n",
       "    <tr>\n",
       "      <th>2997</th>\n",
       "      <td>The Long Kiss Goodnight</td>\n",
       "      <td>[ 'Stephanie Austin',  'Shane Black',  'Renny ...</td>\n",
       "      <td>[ 'Renny Harlin']</td>\n",
       "      <td>37.63</td>\n",
       "    </tr>\n",
       "    <tr>\n",
       "      <th>2998</th>\n",
       "      <td>Along Came Polly</td>\n",
       "      <td>[ 'Danny DeVito',  'Michael Shamberg',  'Stace...</td>\n",
       "      <td>[ 'John Hamburg']</td>\n",
       "      <td>309.44</td>\n",
       "    </tr>\n",
       "    <tr>\n",
       "      <th>2999</th>\n",
       "      <td>Abduction</td>\n",
       "      <td>[ 'Doug Davison',  'Roy Lee',  'Ellen Goldsmit...</td>\n",
       "      <td>[ 'John Singleton']</td>\n",
       "      <td>134.53</td>\n",
       "    </tr>\n",
       "  </tbody>\n",
       "</table>\n",
       "<p>3000 rows × 4 columns</p>\n",
       "</div>"
      ],
      "text/plain": [
       "                                         Movie  \\\n",
       "0                       Hot Tub Time Machine 2   \n",
       "1     The Princess Diaries 2: Royal Engagement   \n",
       "2                                     Whiplash   \n",
       "3                                      Kahaani   \n",
       "4                                   Marine Boy   \n",
       "...                                        ...   \n",
       "2995                                   Chasers   \n",
       "2996                          We Are the Best!   \n",
       "2997                   The Long Kiss Goodnight   \n",
       "2998                          Along Came Polly   \n",
       "2999                                 Abduction   \n",
       "\n",
       "                                              Producers             Directors  \\\n",
       "0                                     [ 'Andrew Panay']       [ 'Steve Pink']   \n",
       "1     [ 'Whitney Houston',  'Mario Iscovich',  'Debr...   [ 'Garry Marshall']   \n",
       "2     [ 'David Lancaster',  'Michel Litvak',  'Jason...  [ 'Damien Chazelle']   \n",
       "3                                      [ 'Sujoy Ghosh']      [ 'Sujoy Ghosh']   \n",
       "4                                                    []   [ 'Jong-seok Yoon']   \n",
       "...                                                 ...                   ...   \n",
       "2995                             [ 'James G. Robinson']    [ 'Dennis Hopper']   \n",
       "2996                                 [ 'Lars J√∂nsson']  [ 'Lukas Moodysson']   \n",
       "2997  [ 'Stephanie Austin',  'Shane Black',  'Renny ...     [ 'Renny Harlin']   \n",
       "2998  [ 'Danny DeVito',  'Michael Shamberg',  'Stace...     [ 'John Hamburg']   \n",
       "2999  [ 'Doug Davison',  'Roy Lee',  'Ellen Goldsmit...   [ 'John Singleton']   \n",
       "\n",
       "          ROI  \n",
       "0      -12.04  \n",
       "1      137.87  \n",
       "2      296.73  \n",
       "3     1233.33  \n",
       "4      -50.95  \n",
       "...       ...  \n",
       "2995   -80.04  \n",
       "2996   -97.74  \n",
       "2997    37.63  \n",
       "2998   309.44  \n",
       "2999   134.53  \n",
       "\n",
       "[3000 rows x 4 columns]"
      ]
     },
     "execution_count": 149,
     "metadata": {},
     "output_type": "execute_result"
    }
   ],
   "source": [
    "prod_dir_table = pd.DataFrame({'Movie': df['title'],\n",
    "              'Producers': producers,\n",
    "             'Directors': directors,\n",
    "             'ROI': df['roi']})\n",
    "prod_dir_table"
   ]
  },
  {
   "cell_type": "code",
   "execution_count": 174,
   "metadata": {},
   "outputs": [
    {
     "data": {
      "text/html": [
       "<div>\n",
       "<style scoped>\n",
       "    .dataframe tbody tr th:only-of-type {\n",
       "        vertical-align: middle;\n",
       "    }\n",
       "\n",
       "    .dataframe tbody tr th {\n",
       "        vertical-align: top;\n",
       "    }\n",
       "\n",
       "    .dataframe thead th {\n",
       "        text-align: right;\n",
       "    }\n",
       "</style>\n",
       "<table border=\"1\" class=\"dataframe\">\n",
       "  <thead>\n",
       "    <tr style=\"text-align: right;\">\n",
       "      <th></th>\n",
       "      <th>Movie</th>\n",
       "      <th>Producers</th>\n",
       "      <th>Directors</th>\n",
       "      <th>ROI</th>\n",
       "      <th>Producer1</th>\n",
       "    </tr>\n",
       "  </thead>\n",
       "  <tbody>\n",
       "    <tr>\n",
       "      <th>0</th>\n",
       "      <td>Hot Tub Time Machine 2</td>\n",
       "      <td>[ 'Andrew Panay']</td>\n",
       "      <td>[ 'Steve Pink']</td>\n",
       "      <td>-12.04</td>\n",
       "      <td>'Andrew Panay'</td>\n",
       "    </tr>\n",
       "    <tr>\n",
       "      <th>1</th>\n",
       "      <td>The Princess Diaries 2: Royal Engagement</td>\n",
       "      <td>[ 'Whitney Houston',  'Mario Iscovich',  'Debr...</td>\n",
       "      <td>[ 'Garry Marshall']</td>\n",
       "      <td>137.87</td>\n",
       "      <td>'Whitney Houston'</td>\n",
       "    </tr>\n",
       "    <tr>\n",
       "      <th>2</th>\n",
       "      <td>Whiplash</td>\n",
       "      <td>[ 'David Lancaster',  'Michel Litvak',  'Jason...</td>\n",
       "      <td>[ 'Damien Chazelle']</td>\n",
       "      <td>296.73</td>\n",
       "      <td>'David Lancaster'</td>\n",
       "    </tr>\n",
       "    <tr>\n",
       "      <th>3</th>\n",
       "      <td>Kahaani</td>\n",
       "      <td>[ 'Sujoy Ghosh']</td>\n",
       "      <td>[ 'Sujoy Ghosh']</td>\n",
       "      <td>1233.33</td>\n",
       "      <td>'Sujoy Ghosh'</td>\n",
       "    </tr>\n",
       "    <tr>\n",
       "      <th>4</th>\n",
       "      <td>Marine Boy</td>\n",
       "      <td>[]</td>\n",
       "      <td>[ 'Jong-seok Yoon']</td>\n",
       "      <td>-50.95</td>\n",
       "      <td>NaN</td>\n",
       "    </tr>\n",
       "  </tbody>\n",
       "</table>\n",
       "</div>"
      ],
      "text/plain": [
       "                                      Movie  \\\n",
       "0                    Hot Tub Time Machine 2   \n",
       "1  The Princess Diaries 2: Royal Engagement   \n",
       "2                                  Whiplash   \n",
       "3                                   Kahaani   \n",
       "4                                Marine Boy   \n",
       "\n",
       "                                           Producers             Directors  \\\n",
       "0                                  [ 'Andrew Panay']       [ 'Steve Pink']   \n",
       "1  [ 'Whitney Houston',  'Mario Iscovich',  'Debr...   [ 'Garry Marshall']   \n",
       "2  [ 'David Lancaster',  'Michel Litvak',  'Jason...  [ 'Damien Chazelle']   \n",
       "3                                   [ 'Sujoy Ghosh']      [ 'Sujoy Ghosh']   \n",
       "4                                                 []   [ 'Jong-seok Yoon']   \n",
       "\n",
       "       ROI           Producer1  \n",
       "0   -12.04      'Andrew Panay'  \n",
       "1   137.87   'Whitney Houston'  \n",
       "2   296.73   'David Lancaster'  \n",
       "3  1233.33       'Sujoy Ghosh'  \n",
       "4   -50.95                 NaN  "
      ]
     },
     "execution_count": 174,
     "metadata": {},
     "output_type": "execute_result"
    }
   ],
   "source": [
    "prod_dir_table['Producer1'] = prod_dir_table['Producers'].map(lambda x: x[0] if len(x) != 0 else np.nan)\n",
    "prod_dir_table.head()"
   ]
  },
  {
   "cell_type": "code",
   "execution_count": 182,
   "metadata": {},
   "outputs": [
    {
     "data": {
      "text/plain": [
       "Producer1\n",
       "'Robin Cowie'          413233.33\n",
       "'Jason Blum'           163170.66\n",
       "'John Waters'           49900.00\n",
       "'Charles B. Pierce'     21900.00\n",
       "'D.W. Griffith'         10900.00\n",
       "                         ...    \n",
       "'Larry Castillo'         -100.00\n",
       "'John Alan Simon'        -100.00\n",
       "'Elia Kazan'             -100.00\n",
       "'William Fox'            -100.00\n",
       "'Thomas E. Ballard'      -100.00\n",
       "Name: ROI, Length: 1511, dtype: float64"
      ]
     },
     "execution_count": 182,
     "metadata": {},
     "output_type": "execute_result"
    }
   ],
   "source": [
    "highest_roi_prod = prod_dir_table.groupby('Producer1')['ROI'].mean().sort_values(ascending=False)\n",
    "highest_roi_prod"
   ]
  },
  {
   "cell_type": "code",
   "execution_count": 187,
   "metadata": {},
   "outputs": [
    {
     "name": "stdout",
     "output_type": "stream",
     "text": [
      "Producer that made highest average roi: 'Robin Cowie' with roi: 413233.33\n"
     ]
    }
   ],
   "source": [
    "print(f'Producer that made highest average roi: {highest_roi_prod.index[0].strip()} with roi: {highest_roi_prod.values[0]}')"
   ]
  },
  {
   "cell_type": "markdown",
   "metadata": {},
   "source": [
    "#### 5. Which actor has acted in the most number of movies? Deep dive into the movies, genres and profits corresponding to this actor."
   ]
  },
  {
   "cell_type": "code",
   "execution_count": 198,
   "metadata": {},
   "outputs": [
    {
     "data": {
      "text/plain": [
       "[\"[{'cast_id': 10, \",\n",
       " \" 'Ian', 'credit_id': '52fe46779251416c9105552d', 'gender': 2, 'id': 2219, 'name': 'Tobey Maguire', 'order': 1, 'profile_path': '/l8e9we9RmTsYgNpx4xqQIlMplLl.jpg'}, {'cast_id': 11, \",\n",
       " \" 'Tracy', 'credit_id': '52fe46779251416c91055531', 'gender': 1, 'id': 27727, 'name': 'Marissa Ribisi', 'order': 8, 'profile_path': '/cKbSKPlaPIFbp5v32rekgENjYi2.jpg'}, {'cast_id': 12, \",\n",
       " \" 'Bernard', 'credit_id': '52fe46779251416c91055535', 'gender': 2, 'id': 23958, 'name': 'Jeremy Sisto', 'order': 9, 'profile_path': '/o2FDlQQWOxF18Bq6hDvhiQZE8i9.jpg'}, {'cast_id': 13, \",\n",
       " \" 'Amy', 'credit_id': '52fe46779251416c91055539', 'gender': 1, 'id': 35468, 'name': 'Amber Benson', 'order': 10, 'profile_path': '/hcatQaJNb2lAcBukfn6IOaxtl5F.jpg'}, {'cast_id': 14, \",\n",
       " \" 'Brad', 'credit_id': '52fe46779251416c9105553d', 'gender': 2, 'id': 83188, 'name': 'Scott Bloom', 'order': 11, 'profile_path': '/82xyc1dLZyPdIuYb0DiTzhLqXg5.jpg'}, {'cast_id': 15, \",\n",
       " \" 'Jeremy', 'credit_id': '52fe46779251416c91055541', 'gender': 2, 'id': 16666, 'name': 'Kevin Connolly', 'order': 12, 'profile_path': '/rNWJMAz8iIHTiaBW1Qp4QwQAqZw.jpg'}, {'cast_id': 16, \",\n",
       " \" 'Sara', 'credit_id': '52fe46779251416c91055545', 'gender': 1, 'id': 91415, 'name': 'Jenny Lewis', 'order': 13, 'profile_path': '/gAsEK7zcS8PUJxdakQLwN8iaXy3.jpg'}, {'cast_id': 17, \",\n",
       " \" 'Constance', 'credit_id': '52fe46779251416c91055549', 'gender': 0, 'id': 22248, 'name': 'Heather McComb', 'order': 14, 'profile_path': '/zthsKWkqe6qBMvKlEww6sVhG4Eu.jpg'}, {'cast_id': 18, \",\n",
       " \" 'Juliet', 'credit_id': '52fe46779251416c9105554d', 'gender': 1, 'id': 76760, 'name': 'Meadow Sisto', 'order': 15, 'profile_path': None}, {'cast_id': 20, \",\n",
       " \" '', 'credit_id': '59e392fc9251410b6700039a', 'gender': 2, 'id': 6193, 'name': 'Leonardo DiCaprio', 'order': 16, 'profile_path': '/jToSMocaCaS5YnuOJVqQ7S7pr4Q.jpg'}]\"]"
      ]
     },
     "execution_count": 198,
     "metadata": {},
     "output_type": "execute_result"
    }
   ],
   "source": [
    "df['cast'][313].split(\"\\'character\\':\")"
   ]
  },
  {
   "cell_type": "markdown",
   "metadata": {},
   "source": [
    "#### 6. Top 3 directors prefer which actors the most?\n"
   ]
  },
  {
   "cell_type": "code",
   "execution_count": null,
   "metadata": {},
   "outputs": [],
   "source": []
  },
  {
   "cell_type": "code",
   "execution_count": null,
   "metadata": {},
   "outputs": [],
   "source": []
  },
  {
   "cell_type": "code",
   "execution_count": null,
   "metadata": {},
   "outputs": [],
   "source": []
  },
  {
   "cell_type": "code",
   "execution_count": null,
   "metadata": {},
   "outputs": [],
   "source": []
  },
  {
   "cell_type": "code",
   "execution_count": null,
   "metadata": {},
   "outputs": [],
   "source": []
  },
  {
   "cell_type": "code",
   "execution_count": null,
   "metadata": {},
   "outputs": [],
   "source": []
  }
 ],
 "metadata": {
  "colab": {
   "provenance": []
  },
  "kernelspec": {
   "display_name": "base",
   "language": "python",
   "name": "python3"
  },
  "language_info": {
   "codemirror_mode": {
    "name": "ipython",
    "version": 3
   },
   "file_extension": ".py",
   "mimetype": "text/x-python",
   "name": "python",
   "nbconvert_exporter": "python",
   "pygments_lexer": "ipython3",
   "version": "3.12.9"
  }
 },
 "nbformat": 4,
 "nbformat_minor": 1
}
