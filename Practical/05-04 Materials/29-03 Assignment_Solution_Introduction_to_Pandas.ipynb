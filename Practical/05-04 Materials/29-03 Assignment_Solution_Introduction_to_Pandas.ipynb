{
 "cells": [
  {
   "cell_type": "code",
   "execution_count": null,
   "metadata": {
    "id": "0V3Xtuh9siNn"
   },
   "outputs": [],
   "source": [
    "import numpy as np\n",
    "import pandas as pd"
   ]
  },
  {
   "cell_type": "markdown",
   "metadata": {
    "id": "Ase3qjp9cJUC"
   },
   "source": [
    "# <u>**Problem 1**</u>\n",
    "\n",
    "### You are given a list of urls. You need to extract the domain name from the urls in another list. Also you need to extract the ending string which the url ends with.\n",
    "\n",
    "### For example, https://www.example.com/market.php -- In this example, domain name is <code>www.example.com</code> and the ending string is <code>php</code>\n",
    "\n"
   ]
  },
  {
   "cell_type": "code",
   "execution_count": null,
   "metadata": {
    "id": "xj0SaK7smcPu"
   },
   "outputs": [],
   "source": [
    "# List of urls\n",
    "url_list = ['https://blog.hubspot.com/marketing/parts-url',\n",
    "            'https://www.almabetter.com/enrollments',\n",
    "            'https://pandas.pydata.org/pandas-docs/stable/reference/api/pandas.DataFrame.rename.html',\n",
    "            'https://www.programiz.com/python-programming/list']"
   ]
  },
  {
   "cell_type": "code",
   "execution_count": null,
   "metadata": {
    "id": "N1hhYCZw3V1c"
   },
   "outputs": [],
   "source": [
    "# Extract the domains and the ending string. Hint : use the split method for a string\n",
    "\n",
    "domain_list = [x.split('/')[2] for x in url_list]\n",
    "ending_string_list = [x.split('/')[-1].split('.')[-1] for x in url_list]\n"
   ]
  },
  {
   "cell_type": "markdown",
   "metadata": {
    "id": "EVgY54DrvLEF"
   },
   "source": [
    "## Next create a pandas dataframe with the above three lists."
   ]
  },
  {
   "cell_type": "code",
   "execution_count": null,
   "metadata": {
    "colab": {
     "base_uri": "https://localhost:8080/",
     "height": 173
    },
    "id": "2osXcjvpu6Uz",
    "outputId": "10f0953c-c183-4e87-8490-dc302529b1c3"
   },
   "outputs": [
    {
     "data": {
      "text/html": [
       "<div>\n",
       "<style scoped>\n",
       "    .dataframe tbody tr th:only-of-type {\n",
       "        vertical-align: middle;\n",
       "    }\n",
       "\n",
       "    .dataframe tbody tr th {\n",
       "        vertical-align: top;\n",
       "    }\n",
       "\n",
       "    .dataframe thead th {\n",
       "        text-align: right;\n",
       "    }\n",
       "</style>\n",
       "<table border=\"1\" class=\"dataframe\">\n",
       "  <thead>\n",
       "    <tr style=\"text-align: right;\">\n",
       "      <th></th>\n",
       "      <th>Url</th>\n",
       "      <th>Domain</th>\n",
       "      <th>Ending_string</th>\n",
       "    </tr>\n",
       "  </thead>\n",
       "  <tbody>\n",
       "    <tr>\n",
       "      <th>0</th>\n",
       "      <td>https://blog.hubspot.com/marketing/parts-url</td>\n",
       "      <td>blog.hubspot.com</td>\n",
       "      <td>parts-url</td>\n",
       "    </tr>\n",
       "    <tr>\n",
       "      <th>1</th>\n",
       "      <td>https://www.almabetter.com/enrollments</td>\n",
       "      <td>www.almabetter.com</td>\n",
       "      <td>enrollments</td>\n",
       "    </tr>\n",
       "    <tr>\n",
       "      <th>2</th>\n",
       "      <td>https://pandas.pydata.org/pandas-docs/stable/r...</td>\n",
       "      <td>pandas.pydata.org</td>\n",
       "      <td>html</td>\n",
       "    </tr>\n",
       "    <tr>\n",
       "      <th>3</th>\n",
       "      <td>https://www.programiz.com/python-programming/list</td>\n",
       "      <td>www.programiz.com</td>\n",
       "      <td>list</td>\n",
       "    </tr>\n",
       "  </tbody>\n",
       "</table>\n",
       "</div>"
      ],
      "text/plain": [
       "                                                 Url  ... Ending_string\n",
       "0       https://blog.hubspot.com/marketing/parts-url  ...     parts-url\n",
       "1             https://www.almabetter.com/enrollments  ...   enrollments\n",
       "2  https://pandas.pydata.org/pandas-docs/stable/r...  ...          html\n",
       "3  https://www.programiz.com/python-programming/list  ...          list\n",
       "\n",
       "[4 rows x 3 columns]"
      ]
     },
     "execution_count": 5,
     "metadata": {
      "tags": []
     },
     "output_type": "execute_result"
    }
   ],
   "source": [
    "# Your code here. Hint : zip the three lists\n",
    "list_of_tuples=list(zip(url_list,domain_list,ending_string_list))\n",
    "url_info_frame=pd.DataFrame(list_of_tuples,columns=['Url','Domain','Ending_string'])\n",
    "url_info_frame"
   ]
  },
  {
   "cell_type": "code",
   "execution_count": null,
   "metadata": {},
   "outputs": [],
   "source": []
  },
  {
   "cell_type": "markdown",
   "metadata": {},
   "source": [
    "# Problem 2\n",
    "\n",
    "### **Problem Statement:**\n",
    "You are given sales data for a small electronics store. The store sells various products like laptops, smartphones, and tablets. Your task is to create a pandas DataFrame from scratch using the given data and perform some basic analysis.\n",
    "\n",
    "#### **Instructions:**\n",
    "1. Create a pandas DataFrame with the following columns:\n",
    "   - `'Product'`: Name of the product  \n",
    "   - `'Category'`: Type of product (Laptop, Smartphone, Tablet)  \n",
    "   - `'Price'`: Price of the product (in USD)  \n",
    "   - `'Units Sold'`: Number of units sold  \n",
    "\n",
    "2. Use the following data to populate the DataFrame:  \n",
    "\n",
    "   | Product              | Category    | Price | Units Sold |\n",
    "   |----------------------|------------|-------|------------|\n",
    "   | MacBook Air         | Laptop     | 999   | 35         |\n",
    "   | Dell XPS 13         | Laptop     | 1199  | 25         |\n",
    "   | iPhone 14           | Smartphone | 799   | 50         |\n",
    "   | Samsung Galaxy S23  | Smartphone | 899   | 40         |\n",
    "   | iPad Pro            | Tablet     | 1099  | 30         |\n",
    "\n",
    "3. **Perform Basic Analysis on the DataFrame**:\n",
    "   - Print the first 5 rows of the DataFrame.\n",
    "   - Print the number of rows and columns.\n",
    "   - Print the column names.\n",
    "   - Check for missing values.\n",
    "   - Print basic statistics using `.describe()`.\n",
    "\n",
    "---\n"
   ]
  },
  {
   "cell_type": "code",
   "execution_count": null,
   "metadata": {},
   "outputs": [],
   "source": [
    "\n",
    "import pandas as pd\n",
    "\n",
    "# Creating the DataFrame\n",
    "data = {\n",
    "    'Product': ['MacBook Air', 'Dell XPS 13', 'iPhone 14', 'Samsung Galaxy S23', 'iPad Pro'],\n",
    "    'Category': ['Laptop', 'Laptop', 'Smartphone', 'Smartphone', 'Tablet'],\n",
    "    'Price': [999, 1199, 799, 899, 1099],\n",
    "    'Units Sold': [35, 25, 50, 40, 30]\n",
    "}\n",
    "\n",
    "df = pd.DataFrame(data)\n",
    "\n",
    "# Display first 5 rows\n",
    "print(\"First 5 rows of the DataFrame:\")\n",
    "print(df.head())\n",
    "\n",
    "# Shape of the DataFrame\n",
    "print(\"\\nShape of the DataFrame (rows, columns):\", df.shape)\n",
    "\n",
    "# Size of the DataFrame\n",
    "print(\"\\nTotal number of elements in the DataFrame:\", df.size)\n",
    "\n",
    "# Column names\n",
    "print(\"\\nColumn names:\", df.columns.tolist())\n",
    "\n",
    "# Check for missing values\n",
    "print(\"\\nMissing values in each column:\\n\", df.isnull().sum())\n",
    "\n",
    "# Summary statistics\n",
    "print(\"\\nSummary statistics of numerical columns:\")\n",
    "print(df.describe())\n",
    "```\n",
    "\n"
   ]
  },
  {
   "cell_type": "markdown",
   "metadata": {},
   "source": [
    "---\n",
    "\n",
    "### **Expected Output:**\n",
    "```\n",
    "First 5 rows of the DataFrame:\n",
    "             Product    Category  Price  Units Sold\n",
    "0     MacBook Air     Laptop    999         35\n",
    "1     Dell XPS 13     Laptop   1199         25\n",
    "2     iPhone 14   Smartphone    799         50\n",
    "3     Samsung Galaxy S23  Smartphone    899         40\n",
    "4     iPad Pro        Tablet   1099         30\n",
    "\n",
    "Shape of the DataFrame (rows, columns): (5, 4)\n",
    "\n",
    "Total number of elements in the DataFrame: 20\n",
    "\n",
    "Column names: ['Product', 'Category', 'Price', 'Units Sold']\n",
    "\n",
    "Missing values in each column:\n",
    "Product       0\n",
    "Category      0\n",
    "Price         0\n",
    "Units Sold    0\n",
    "dtype: int64\n",
    "\n",
    "Summary statistics of numerical columns:\n",
    "             Price  Units Sold\n",
    "count     5.000000   5.000000\n",
    "mean   999.000000  36.000000\n",
    "std    146.759473   9.354143\n",
    "min    799.000000  25.000000\n",
    "25%    899.000000  30.000000\n",
    "50%    999.000000  35.000000\n",
    "75%   1099.000000  40.000000\n",
    "max   1199.000000  50.000000\n",
    "```\n"
   ]
  },
  {
   "cell_type": "code",
   "execution_count": null,
   "metadata": {},
   "outputs": [],
   "source": []
  }
 ],
 "metadata": {
  "colab": {
   "provenance": []
  },
  "kernelspec": {
   "display_name": "Python 3 (ipykernel)",
   "language": "python",
   "name": "python3"
  },
  "language_info": {
   "codemirror_mode": {
    "name": "ipython",
    "version": 3
   },
   "file_extension": ".py",
   "mimetype": "text/x-python",
   "name": "python",
   "nbconvert_exporter": "python",
   "pygments_lexer": "ipython3",
   "version": "3.10.11"
  }
 },
 "nbformat": 4,
 "nbformat_minor": 1
}
