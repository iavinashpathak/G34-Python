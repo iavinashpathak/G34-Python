{
 "cells": [
  {
   "cell_type": "code",
   "execution_count": 1,
   "metadata": {},
   "outputs": [
    {
     "name": "stdout",
     "output_type": "stream",
     "text": [
      "The Euclidean Distance between the above given two points: 2.8284271247461903\n"
     ]
    }
   ],
   "source": [
    "x1 = int(input('Enter coordinated of x1:'))\n",
    "y1 = int(input('Enter coordinated of y1:'))\n",
    "\n",
    "x2 = int(input('Enter coordinated of x2:'))\n",
    "y2 = int(input('Enter coordinated of y2:'))\n",
    "\n",
    "print(f'The Euclidean Distance between the above given two points: {((x1-x2)**2+ (y1-y2)**2)**(1/2)}')"
   ]
  },
  {
   "cell_type": "code",
   "execution_count": 7,
   "metadata": {},
   "outputs": [
    {
     "data": {
      "text/plain": [
       "'ivA'"
      ]
     },
     "execution_count": 7,
     "metadata": {},
     "output_type": "execute_result"
    }
   ],
   "source": [
    "a = 'Avi'\n",
    "\n",
    "a[::-1]"
   ]
  },
  {
   "cell_type": "code",
   "execution_count": null,
   "metadata": {},
   "outputs": [],
   "source": []
  },
  {
   "cell_type": "code",
   "execution_count": 25,
   "metadata": {},
   "outputs": [
    {
     "data": {
      "text/plain": [
       "1"
      ]
     },
     "execution_count": 25,
     "metadata": {},
     "output_type": "execute_result"
    }
   ],
   "source": [
    "lst = [1,7,9,2,10]\n",
    "\n",
    "abs(sorted(lst)[0] - sorted(lst)[1])"
   ]
  },
  {
   "cell_type": "code",
   "execution_count": 35,
   "metadata": {},
   "outputs": [
    {
     "name": "stdout",
     "output_type": "stream",
     "text": [
      "1 [9, 10] [1, 3]\n"
     ]
    }
   ],
   "source": [
    "size = len(lst)\n",
    "diff = 9999999999\n",
    "\n",
    "for idx1, num1 in enumerate(lst):\n",
    "    for idx2, num2 in enumerate(lst):\n",
    "        if num1 == num2:\n",
    "            continue\n",
    "        else:\n",
    "            if (abs(num1 - num2) < diff):\n",
    "                diff = abs(num1 - num2)\n",
    "                closest_num = [num1, num2]\n",
    "                closest_indices = [idx1, idx2]            \n",
    "print(diff, closest_num, closest_indices)"
   ]
  }
 ],
 "metadata": {
  "kernelspec": {
   "display_name": "base",
   "language": "python",
   "name": "python3"
  },
  "language_info": {
   "codemirror_mode": {
    "name": "ipython",
    "version": 3
   },
   "file_extension": ".py",
   "mimetype": "text/x-python",
   "name": "python",
   "nbconvert_exporter": "python",
   "pygments_lexer": "ipython3",
   "version": "3.12.9"
  }
 },
 "nbformat": 4,
 "nbformat_minor": 2
}
